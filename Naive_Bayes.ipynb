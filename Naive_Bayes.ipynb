{
 "cells": [
  {
   "cell_type": "markdown",
   "metadata": {},
   "source": [
    "# Basic Text Classification with Naive Bayes\n",
    "***\n",
    "In the mini-project, you'll learn the basics of text analysis using a subset of movie reviews from the rotten tomatoes database. You'll also use a fundamental technique in Bayesian inference, called Naive Bayes. This mini-project is based on [Lab 10 of Harvard's CS109](https://github.com/cs109/2015lab10) class.  Please free to go to the original lab for additional exercises and solutions."
   ]
  },
  {
   "cell_type": "code",
   "execution_count": 1,
   "metadata": {},
   "outputs": [],
   "source": [
    "%matplotlib inline\n",
    "import numpy as np\n",
    "import scipy as sp\n",
    "import matplotlib as mpl\n",
    "import matplotlib.cm as cm\n",
    "import matplotlib.pyplot as plt\n",
    "import pandas as pd\n",
    "import seaborn as sns\n",
    "from six.moves import range\n",
    "\n",
    "# Setup Pandas\n",
    "pd.set_option('display.width', 500)\n",
    "pd.set_option('display.max_columns', 100)\n",
    "pd.set_option('display.notebook_repr_html', True)\n",
    "\n",
    "# Setup Seaborn\n",
    "sns.set_style(\"whitegrid\")\n",
    "sns.set_context(\"poster\")"
   ]
  },
  {
   "cell_type": "markdown",
   "metadata": {},
   "source": [
    "# Table of Contents\n",
    "\n",
    "* [Rotten Tomatoes Dataset](#Rotten-Tomatoes-Dataset)\n",
    "    * [Explore](#Explore)\n",
    "* [The Vector Space Model and a Search Engine](#The-Vector-Space-Model-and-a-Search-Engine)\n",
    "    * [In Code](#In-Code)\n",
    "* [Naive Bayes](#Naive-Bayes)\n",
    "    * [Multinomial Naive Bayes and Other Likelihood Functions](#Multinomial-Naive-Bayes-and-Other-Likelihood-Functions)\n",
    "    * [Picking Hyperparameters for Naive Bayes and Text Maintenance](#Picking-Hyperparameters-for-Naive-Bayes-and-Text-Maintenance)\n",
    "* [Interpretation](#Interpretation)\n"
   ]
  },
  {
   "cell_type": "markdown",
   "metadata": {},
   "source": [
    "## Rotten Tomatoes Dataset"
   ]
  },
  {
   "cell_type": "code",
   "execution_count": 2,
   "metadata": {},
   "outputs": [
    {
     "data": {
      "text/html": [
       "<div>\n",
       "<style scoped>\n",
       "    .dataframe tbody tr th:only-of-type {\n",
       "        vertical-align: middle;\n",
       "    }\n",
       "\n",
       "    .dataframe tbody tr th {\n",
       "        vertical-align: top;\n",
       "    }\n",
       "\n",
       "    .dataframe thead th {\n",
       "        text-align: right;\n",
       "    }\n",
       "</style>\n",
       "<table border=\"1\" class=\"dataframe\">\n",
       "  <thead>\n",
       "    <tr style=\"text-align: right;\">\n",
       "      <th></th>\n",
       "      <th>critic</th>\n",
       "      <th>fresh</th>\n",
       "      <th>imdb</th>\n",
       "      <th>publication</th>\n",
       "      <th>quote</th>\n",
       "      <th>review_date</th>\n",
       "      <th>rtid</th>\n",
       "      <th>title</th>\n",
       "    </tr>\n",
       "  </thead>\n",
       "  <tbody>\n",
       "    <tr>\n",
       "      <th>1</th>\n",
       "      <td>Derek Adams</td>\n",
       "      <td>fresh</td>\n",
       "      <td>114709</td>\n",
       "      <td>Time Out</td>\n",
       "      <td>So ingenious in concept, design and execution ...</td>\n",
       "      <td>2009-10-04</td>\n",
       "      <td>9559</td>\n",
       "      <td>Toy story</td>\n",
       "    </tr>\n",
       "    <tr>\n",
       "      <th>2</th>\n",
       "      <td>Richard Corliss</td>\n",
       "      <td>fresh</td>\n",
       "      <td>114709</td>\n",
       "      <td>TIME Magazine</td>\n",
       "      <td>The year's most inventive comedy.</td>\n",
       "      <td>2008-08-31</td>\n",
       "      <td>9559</td>\n",
       "      <td>Toy story</td>\n",
       "    </tr>\n",
       "    <tr>\n",
       "      <th>3</th>\n",
       "      <td>David Ansen</td>\n",
       "      <td>fresh</td>\n",
       "      <td>114709</td>\n",
       "      <td>Newsweek</td>\n",
       "      <td>A winning animated feature that has something ...</td>\n",
       "      <td>2008-08-18</td>\n",
       "      <td>9559</td>\n",
       "      <td>Toy story</td>\n",
       "    </tr>\n",
       "    <tr>\n",
       "      <th>4</th>\n",
       "      <td>Leonard Klady</td>\n",
       "      <td>fresh</td>\n",
       "      <td>114709</td>\n",
       "      <td>Variety</td>\n",
       "      <td>The film sports a provocative and appealing st...</td>\n",
       "      <td>2008-06-09</td>\n",
       "      <td>9559</td>\n",
       "      <td>Toy story</td>\n",
       "    </tr>\n",
       "    <tr>\n",
       "      <th>5</th>\n",
       "      <td>Jonathan Rosenbaum</td>\n",
       "      <td>fresh</td>\n",
       "      <td>114709</td>\n",
       "      <td>Chicago Reader</td>\n",
       "      <td>An entertaining computer-generated, hyperreali...</td>\n",
       "      <td>2008-03-10</td>\n",
       "      <td>9559</td>\n",
       "      <td>Toy story</td>\n",
       "    </tr>\n",
       "  </tbody>\n",
       "</table>\n",
       "</div>"
      ],
      "text/plain": [
       "               critic  fresh    imdb     publication                                              quote review_date  rtid      title\n",
       "1         Derek Adams  fresh  114709        Time Out  So ingenious in concept, design and execution ...  2009-10-04  9559  Toy story\n",
       "2     Richard Corliss  fresh  114709   TIME Magazine                  The year's most inventive comedy.  2008-08-31  9559  Toy story\n",
       "3         David Ansen  fresh  114709        Newsweek  A winning animated feature that has something ...  2008-08-18  9559  Toy story\n",
       "4       Leonard Klady  fresh  114709         Variety  The film sports a provocative and appealing st...  2008-06-09  9559  Toy story\n",
       "5  Jonathan Rosenbaum  fresh  114709  Chicago Reader  An entertaining computer-generated, hyperreali...  2008-03-10  9559  Toy story"
      ]
     },
     "execution_count": 2,
     "metadata": {},
     "output_type": "execute_result"
    }
   ],
   "source": [
    "critics = pd.read_csv(r'C:\\Users\\lakshya_hanshvik\\Desktop\\sb\\machine learning assingments\\naive_bayes/critics.csv')\n",
    "#let's drop rows with missing quotes\n",
    "critics = critics[~critics.quote.isnull()]\n",
    "critics.head()"
   ]
  },
  {
   "cell_type": "code",
   "execution_count": 3,
   "metadata": {},
   "outputs": [
    {
     "name": "stdout",
     "output_type": "stream",
     "text": [
      "<class 'pandas.core.frame.DataFrame'>\n",
      "Int64Index: 15561 entries, 1 to 27616\n",
      "Data columns (total 8 columns):\n",
      "critic         14792 non-null object\n",
      "fresh          15561 non-null object\n",
      "imdb           15561 non-null int64\n",
      "publication    15561 non-null object\n",
      "quote          15561 non-null object\n",
      "review_date    15561 non-null object\n",
      "rtid           15561 non-null int64\n",
      "title          15561 non-null object\n",
      "dtypes: int64(2), object(6)\n",
      "memory usage: 1.1+ MB\n"
     ]
    }
   ],
   "source": [
    "critics.info()"
   ]
  },
  {
   "cell_type": "code",
   "execution_count": 4,
   "metadata": {},
   "outputs": [
    {
     "data": {
      "text/plain": [
       "['Derek Adams',\n",
       " 'Richard Corliss',\n",
       " 'David Ansen',\n",
       " 'Leonard Klady',\n",
       " 'Jonathan Rosenbaum',\n",
       " 'Michael Booth',\n",
       " 'Geoff Andrew',\n",
       " 'Janet Maslin',\n",
       " 'Kenneth Turan',\n",
       " 'Susan Wloszczyna',\n",
       " 'Roger Ebert',\n",
       " 'John Hartl',\n",
       " 'Susan Stark',\n",
       " 'Peter Stack',\n",
       " 'James Berardinelli',\n",
       " 'Sean Means',\n",
       " 'Rita Kempley',\n",
       " nan,\n",
       " 'Roger Moore',\n",
       " 'Richard Schickel',\n",
       " 'Caryn James',\n",
       " 'Desson Thomson',\n",
       " 'Liam Lacey',\n",
       " 'Edward Guthmann',\n",
       " 'Joan Walsh',\n",
       " 'Joe Baltake',\n",
       " 'Mike Clark',\n",
       " 'Todd McCarthy',\n",
       " 'Peter Travers',\n",
       " 'Andrew Ross',\n",
       " 'Hal Hinson',\n",
       " 'Andy Spletzer',\n",
       " 'Owen Gleiberman',\n",
       " 'Variety Staff',\n",
       " 'Dave Kehr',\n",
       " 'Bosley Crowther',\n",
       " 'Stephen Holden',\n",
       " 'Mick LaSalle',\n",
       " 'Kevin Thomas',\n",
       " 'Richard Harrington',\n",
       " 'Anthony Lane',\n",
       " 'Rick Groen',\n",
       " 'Tom Keogh',\n",
       " 'Paula Nechak',\n",
       " 'Susan Rathke',\n",
       " 'Joe Leydon',\n",
       " 'David Kronke',\n",
       " 'Stanley Kauffmann',\n",
       " 'Emily White',\n",
       " 'Lyall Bush',\n",
       " 'Louis B. Parks',\n",
       " 'Bruce Reid',\n",
       " 'Emanuel Levy',\n",
       " 'Jack Mathews',\n",
       " 'Brian Lowry',\n",
       " 'Nigel Floyd',\n",
       " 'Ken Tucker',\n",
       " 'David Jenkins',\n",
       " 'Kevin Lee',\n",
       " 'A.O. Scott',\n",
       " 'Jeannette Catsoulis',\n",
       " 'Dan Kois',\n",
       " 'Kyle Smith',\n",
       " 'Brian Miller',\n",
       " 'Jason Anderson',\n",
       " 'Stephen Cole',\n",
       " 'Tom Long',\n",
       " 'J. R. Jones',\n",
       " 'Chris Vognar',\n",
       " 'Stephanie Zacharek',\n",
       " 'Kathleen Murphy',\n",
       " 'Wesley Morris',\n",
       " 'Joe Williams',\n",
       " 'Chris Nashawaty',\n",
       " 'Michael Phillips',\n",
       " 'Anna Smith',\n",
       " 'Jeff Millar',\n",
       " 'Michael Wilmington',\n",
       " 'Derek Elley',\n",
       " 'Kevin McManus',\n",
       " 'Bradley Steinbacher',\n",
       " 'Carrie Rickey',\n",
       " 'Gary Dretzka',\n",
       " 'Doug Thomas',\n",
       " 'Terrence Rafferty',\n",
       " 'Jack Kroll',\n",
       " 'Lisa Schwarzbaum',\n",
       " 'Jonathan F. Richards',\n",
       " 'Keith Simanton',\n",
       " 'Tom Green',\n",
       " 'Godfrey Cheshire',\n",
       " 'Stephen Garrett',\n",
       " 'Andrew Geller',\n",
       " 'Laura Evenson',\n",
       " 'Ben Walters',\n",
       " 'Bob Mondello',\n",
       " 'Andrea Gronvall',\n",
       " 'Joshua Rothkopf',\n",
       " 'Andrew Sarris',\n",
       " 'Rene Rodriguez',\n",
       " 'Joe Morgenstern',\n",
       " 'Peter Rainer',\n",
       " 'Rob Nelson',\n",
       " 'Rob Salem',\n",
       " 'Richard Roeper',\n",
       " 'Ty Burr',\n",
       " 'Glenn Lovell',\n",
       " 'J. Hoberman',\n",
       " 'Laura Shapiro',\n",
       " 'Jeremy Gerard',\n",
       " 'Jay Boyar',\n",
       " 'Melissa Anderson',\n",
       " 'Rex Reed',\n",
       " 'Claudia Puig',\n",
       " 'Peter Howell',\n",
       " 'Jeff Shannon',\n",
       " 'Stephen Whitty',\n",
       " 'Elizabeth Weitzman',\n",
       " 'Terry Lawson',\n",
       " 'Lisa Kennedy',\n",
       " 'Esther Iverem',\n",
       " 'John Anderson',\n",
       " 'Daniel M. Kimmel',\n",
       " 'Andy Seiler',\n",
       " 'John Monaghan',\n",
       " \"Michael O'Sullivan\",\n",
       " 'Ann Hornaday',\n",
       " 'Malene Arpe',\n",
       " 'Moira MacDonald',\n",
       " 'Lisa Rose',\n",
       " 'Jami Bernard',\n",
       " 'Amy Biancolli',\n",
       " 'Leah McLaren',\n",
       " 'Robert Denerstein',\n",
       " 'Kevin Crust',\n",
       " 'Charles Taylor',\n",
       " 'Brendan Kelly',\n",
       " 'Bruce Diones',\n",
       " 'John Teegarden',\n",
       " 'Trevor Johnston',\n",
       " 'Richard Leiby',\n",
       " 'Bruce Westbrook',\n",
       " 'Bruce Newman',\n",
       " 'Peter Hartlaub',\n",
       " 'Jim Emerson',\n",
       " 'Colin Covert',\n",
       " 'David Fear',\n",
       " 'Sam Adams',\n",
       " 'Ruthe Stein',\n",
       " 'Marta Barber',\n",
       " 'Lael Loewenstein',\n",
       " 'Gene Seymour',\n",
       " 'Sheri Linden',\n",
       " 'Scott Foundas',\n",
       " 'Akiva Gottlieb',\n",
       " 'Gene Siskel',\n",
       " 'A.D. Murphy',\n",
       " 'Dave Calhoun',\n",
       " 'Michael Atkinson',\n",
       " 'Vincent Canby',\n",
       " 'Shannon Gee',\n",
       " 'Gillian Gaar',\n",
       " 'Carrie Gorringe',\n",
       " 'Dominique Dibbell',\n",
       " 'Sarah Kerr',\n",
       " 'Lawrence Cohn',\n",
       " 'Joe Brown',\n",
       " 'Gary Kamiya',\n",
       " 'Cody Clark',\n",
       " 'Jonathan Foreman',\n",
       " 'Steve Murray',\n",
       " 'Jay Carr',\n",
       " 'Peter Brunette',\n",
       " 'Stephen Hunter',\n",
       " 'David Edelstein',\n",
       " 'Lou Lumenick',\n",
       " 'Eric Harrison',\n",
       " 'Kate Taylor',\n",
       " 'Mark Rahner',\n",
       " 'Dennis Lim',\n",
       " 'Hazel-Dawn Dumpert',\n",
       " 'Desmond Ryan',\n",
       " 'Ted Fry',\n",
       " 'David Hunter',\n",
       " 'David Chute',\n",
       " 'Jane Sumner',\n",
       " 'Steven Rea',\n",
       " 'Kirk Honeycutt',\n",
       " 'Philip Wuntch',\n",
       " 'Renata Adler',\n",
       " 'Wally Hammond',\n",
       " 'Lucy Mohl',\n",
       " 'Greg Burkman',\n",
       " 'Kathy Fennessy',\n",
       " 'Steve Daly',\n",
       " 'Eve Zibart',\n",
       " 'Frank Ahrens',\n",
       " 'Jessica Winter',\n",
       " 'Tom Milne',\n",
       " 'Susan Walker',\n",
       " 'Joe Neumaier',\n",
       " 'Mark Olsen',\n",
       " 'Kamal Al-Solaylee',\n",
       " 'Ed Gonzalez',\n",
       " 'Alissa Simon',\n",
       " 'Douglas Pratt',\n",
       " 'David Rooney',\n",
       " 'Geoff Pevere',\n",
       " 'John Petrakis',\n",
       " 'Pauline Kael',\n",
       " 'Penelope Gilliatt',\n",
       " 'Charles Champlin',\n",
       " 'Alfred Rushford Greason',\n",
       " 'Don Druker',\n",
       " 'Mordaunt Hall',\n",
       " 'Chuck Wilson',\n",
       " 'Chris Tamarri',\n",
       " 'Debra Birnbaum',\n",
       " 'Dana Stevens',\n",
       " 'Robert K. Elder',\n",
       " 'Clifford Terry',\n",
       " 'Megan Rosenfeld',\n",
       " \"Shirley O'Hara\",\n",
       " 'Lisa Nesselson',\n",
       " 'Betsy Sharkey',\n",
       " 'Christopher Orr',\n",
       " 'Jonathan Kiefer',\n",
       " 'Dennis Harvey',\n",
       " 'Michael Rechtshaffen',\n",
       " 'Christopher Harris',\n",
       " 'Tom Huddlestone',\n",
       " 'Mary Brennan',\n",
       " 'Peter M. Nichols',\n",
       " 'Steven Winn',\n",
       " 'Michael Sragow',\n",
       " 'John F. Kelly',\n",
       " 'Glenn Abel',\n",
       " 'Hank Sartin',\n",
       " 'Bill Muller',\n",
       " 'Ella Taylor',\n",
       " 'Frank Scheck',\n",
       " 'Ronnie Scheib',\n",
       " 'V.A. Musetto',\n",
       " 'Jan Stuart',\n",
       " 'Joshua Land',\n",
       " 'Peter Debruge',\n",
       " 'Mark Medley',\n",
       " 'Nancy Churnin',\n",
       " 'Christy Lemire',\n",
       " 'Bill Zwecker',\n",
       " 'Janice Page',\n",
       " 'David Stratton',\n",
       " 'David Mills',\n",
       " 'Manohla Dargis',\n",
       " 'Joanne Kaufman',\n",
       " \"Andrew O'Hehir\",\n",
       " 'Hap Erstein',\n",
       " 'Jeff Strickler',\n",
       " 'Connie Ogle',\n",
       " 'Randy Cordova',\n",
       " 'Duane Byrge',\n",
       " 'Michael Snyder',\n",
       " 'Cliff Doerksen',\n",
       " 'Ben Mankiewicz',\n",
       " 'Ben Lyons',\n",
       " 'Glenn Whipp',\n",
       " 'Adam Graham',\n",
       " 'Cary Darling',\n",
       " 'Trevor Lewis',\n",
       " 'Francis X. Clines',\n",
       " 'Tom Russo',\n",
       " 'Rafer Guzman',\n",
       " \"Sean O'Connell\",\n",
       " 'Nell Minow',\n",
       " 'Alan Scherstuhl',\n",
       " 'Steven Gaydos',\n",
       " 'William Goss',\n",
       " 'Chris Willman',\n",
       " 'Keith Uhlich',\n",
       " 'Norman Chad',\n",
       " 'Jake Tracer',\n",
       " 'Johanna Steinmetz',\n",
       " 'Scott Brown',\n",
       " 'Daniel Gray Longino',\n",
       " 'Mark Bourne',\n",
       " 'Richard Nilsen',\n",
       " 'Nick Schager',\n",
       " 'Aaron Hillis',\n",
       " 'Justin Chang',\n",
       " 'Achy Obejas',\n",
       " 'David Lyman',\n",
       " 'Jeanne Cooper',\n",
       " 'Sheila Benson',\n",
       " 'Michael Upchurch',\n",
       " 'Amy Dawes',\n",
       " 'Eleanor Ringel Gillespie',\n",
       " 'Cath Clarke',\n",
       " 'Jennie Punter',\n",
       " 'Richard Ouzounian',\n",
       " 'Charles Solomon',\n",
       " 'Frank S. Nugent',\n",
       " 'Whitney Willaims',\n",
       " 'Jesse Hamlin',\n",
       " 'Laura Miller',\n",
       " 'Jeff Gilbert',\n",
       " 'Stefan Kanfer',\n",
       " 'Scott Rosenberg',\n",
       " 'Jennifer Preyss',\n",
       " 'Pam Grady',\n",
       " 'Carina Chocano',\n",
       " 'Mary Elizabeth Williams',\n",
       " 'Milo Miles',\n",
       " 'Suzanne Tobin',\n",
       " 'Mark Caro',\n",
       " 'Bruce Fretts',\n",
       " 'Ray Bennett',\n",
       " 'Christy DeSmith',\n",
       " 'Tom Maurstad',\n",
       " 'Gary Goldstein',\n",
       " 'Ernest Hardy',\n",
       " 'Kevin Courrier',\n",
       " 'Lawrence Van Gelder',\n",
       " 'Bob Longino',\n",
       " 'Laura Kern',\n",
       " 'Lisa Alspector',\n",
       " 'Carol Buckland',\n",
       " 'Stacy Levine',\n",
       " 'Cynthia Joyce',\n",
       " 'Anthony Puccinelli',\n",
       " 'Chris Colin',\n",
       " 'Richard Eder',\n",
       " 'Ruth Hessey',\n",
       " 'Tasha Robinson',\n",
       " 'Catherine Dawson March',\n",
       " 'Eric Brace',\n",
       " 'Erin Richter',\n",
       " 'Tim Purtell',\n",
       " 'F.X. Feeney',\n",
       " 'Jay Cocks',\n",
       " 'Paul Tatara',\n",
       " 'Bill Stamets',\n",
       " 'Mark Jenkins',\n",
       " 'David Hiltbrand',\n",
       " 'Herb Golden',\n",
       " 'A.H. Weiler',\n",
       " 'Robert Horton',\n",
       " 'Richard T. Jameson',\n",
       " 'Richard Brody',\n",
       " 'Ed Park',\n",
       " 'Robert B. Frederick',\n",
       " 'David Denby',\n",
       " 'Otis Ferguson',\n",
       " 'Robert J. Landry',\n",
       " 'Keith Staskiewicz',\n",
       " 'Stephanie Merry',\n",
       " 'Todd Gilchrist',\n",
       " 'Edwin Schallert',\n",
       " 'John C. Flinn Sr.',\n",
       " 'Whittaker Chambers',\n",
       " 'Bob Graham',\n",
       " 'Arthur Schlesinger',\n",
       " 'Judith Crist',\n",
       " 'William Brogdon',\n",
       " 'Thomas M. Pryor',\n",
       " 'Robert Hatch',\n",
       " 'Abel Green',\n",
       " 'Philip Kennicott',\n",
       " 'Linda Barnard',\n",
       " 'David Wiegand',\n",
       " 'Justin Berton',\n",
       " 'Joey Guerra',\n",
       " 'Delmore Schwartz',\n",
       " 'Gary Dowell',\n",
       " 'Elliott Stein',\n",
       " 'Andre Sennwald',\n",
       " 'Nick Pinkerton',\n",
       " 'Erik Lundegaard',\n",
       " 'Rich Cohen',\n",
       " 'Manny Farber',\n",
       " 'Bert Briller',\n",
       " 'Tim Grierson',\n",
       " 'Eddie Cockrell',\n",
       " 'Amos Barshad',\n",
       " 'Paul Clinton (CNN.com)',\n",
       " 'Walter V. Addiego',\n",
       " 'Jeff Menell',\n",
       " 'David Germain',\n",
       " 'Louise Kennedy',\n",
       " 'Howard Thompson',\n",
       " 'Glenn Collins',\n",
       " \"Suzanne O'Connor\",\n",
       " 'Lloyd Rose',\n",
       " \"Charlotte O'Sullivan\",\n",
       " 'Joseph McBride',\n",
       " 'Amy Simmons',\n",
       " 'Jen Chaney',\n",
       " 'Brangien Davis',\n",
       " 'Robert Abele',\n",
       " 'Dave Kaufman',\n",
       " 'B. Kite',\n",
       " 'Pat Graham',\n",
       " 'Paul Attanasio',\n",
       " 'Don McKellar',\n",
       " 'Walter Goodman',\n",
       " 'Kevin Maynard',\n",
       " 'Kris Wilton',\n",
       " 'Sara Gebhardt',\n",
       " 'Carla Meyer',\n",
       " 'Steven Rosen',\n",
       " 'Roger Schmeekle',\n",
       " 'Mark Salisbury',\n",
       " 'Anita Gates',\n",
       " 'R. Emmet Sweeney',\n",
       " 'Paul Malcolm',\n",
       " 'Teresa Wiltz',\n",
       " 'Tom Sime',\n",
       " 'Christopher Muther',\n",
       " 'Nathan Lee',\n",
       " 'Dan Fienberg',\n",
       " 'Jenn Shreve',\n",
       " 'David Mermelstein',\n",
       " 'Crosby Day',\n",
       " 'James Harwood',\n",
       " 'Judith Martin',\n",
       " 'Gary Arnold',\n",
       " 'Stephen Klain',\n",
       " 'Tom Huddleston',\n",
       " 'Dale Pollock',\n",
       " 'Allen Barra',\n",
       " 'Chuck Stephens',\n",
       " 'Frank Rich',\n",
       " 'Mark Holcomb',\n",
       " 'Mark Feeney',\n",
       " 'Amy Taubin',\n",
       " 'Paine Knickerbocker',\n",
       " 'Benedict Nightingale',\n",
       " 'Amy E. Schwartz',\n",
       " 'Richard McGuinness',\n",
       " 'Laremy Legel',\n",
       " 'James Rocchi',\n",
       " 'Robin Dougherty',\n",
       " 'Philip Roth',\n",
       " 'Mike Kaplan',\n",
       " 'Herb Schoenfeld',\n",
       " 'Joe Bigelow',\n",
       " 'Charles Schreger',\n",
       " 'Sid Smith',\n",
       " 'Leba Hertz',\n",
       " 'Richard Natale',\n",
       " 'Chris Peachment',\n",
       " 'Henry Allen',\n",
       " 'Ronald Holloway',\n",
       " 'David Ng',\n",
       " 'Sean Daly',\n",
       " 'Barbara Thomas',\n",
       " 'Kerry Lengel',\n",
       " 'Dwight Garner',\n",
       " 'Misha Berson',\n",
       " 'John L. Wasserman',\n",
       " 'Julie Hinds',\n",
       " 'Bill Goodykoontz',\n",
       " 'Jennie Yabroff',\n",
       " 'Bruce Walker',\n",
       " 'Andrew Sun',\n",
       " 'Jane Horwitz',\n",
       " 'Matt Zoller Seitz',\n",
       " 'Vic Vogler',\n",
       " 'Gina Fattore',\n",
       " 'Kathie Smith',\n",
       " 'Jeff Giles',\n",
       " \"Lonnae O'Neal Parker\",\n",
       " 'Michelle Goldberg',\n",
       " 'Bob Heisler',\n",
       " 'Matthew Kohut',\n",
       " 'Jorge Morales',\n",
       " 'Sara Frederick',\n",
       " 'Eric D. Snider',\n",
       " 'Gerald Clarke',\n",
       " 'Elizabeth Williams',\n",
       " 'Cole Haddon',\n",
       " 'Ted Shen',\n",
       " 'Joyce Millman',\n",
       " 'Bill Boisvert',\n",
       " 'Sid Silverman',\n",
       " 'Loren King',\n",
       " 'Daphne Gordon',\n",
       " 'Ray Conlogue',\n",
       " 'Roy Chartier',\n",
       " 'Hobe Morrison',\n",
       " 'Rich Gold',\n",
       " 'Roger Greenspun',\n",
       " 'Jack Pitman',\n",
       " 'Nina Darnton',\n",
       " 'Joseph Litsch',\n",
       " 'Bruce Demara',\n",
       " 'Clark Collis',\n",
       " 'David Thomson',\n",
       " 'Ed Halter',\n",
       " 'Jennifer Frey',\n",
       " 'Christine Dolen',\n",
       " 'C.W. Nevius',\n",
       " 'Theodore Strauss',\n",
       " 'Hillel Italie',\n",
       " 'Ruth Ford',\n",
       " 'John Corry',\n",
       " 'Bilge Ebiri',\n",
       " 'Lance Goldenberg',\n",
       " 'Logan Hill',\n",
       " 'Damon Smith',\n",
       " 'Nora Sayre',\n",
       " 'Henry Sheehan',\n",
       " 'Greg Quill',\n",
       " 'John Skow',\n",
       " 'Eric Hynes',\n",
       " 'Tom Charity',\n",
       " 'Monica Eng',\n",
       " 'John Haslett Cuff',\n",
       " 'Naomi Ryerson',\n",
       " 'Sara Wildberger',\n",
       " 'Eugene Archer',\n",
       " 'Calvin Wilson',\n",
       " 'Dan Zak',\n",
       " 'Mario Tarradell',\n",
       " 'Neely Tucker',\n",
       " 'Joshua Katzman',\n",
       " 'Bob Fenster',\n",
       " 'Betsy Sherman',\n",
       " 'Tonia Steed',\n",
       " 'Jessica Reaves',\n",
       " 'Janelle Brown',\n",
       " 'Robert Koehler',\n",
       " 'Eleonore Snow',\n",
       " 'Molly Haskell',\n",
       " 'Gary Dauphin',\n",
       " 'Jonathan Lethem',\n",
       " 'Norman Green',\n",
       " 'Megan Lehmann',\n",
       " 'Elizabeth M. Tamny',\n",
       " 'Gemma Files',\n",
       " 'Carol Lloyd',\n",
       " 'Craig Seligman',\n",
       " 'Rod Dreher',\n",
       " 'Melissa Morrison',\n",
       " 'Mike Musgrove',\n",
       " 'Elvis Mitchell',\n",
       " 'Patrick Goldstein',\n",
       " 'Allison Benedikt',\n",
       " 'Ron Stringer',\n",
       " 'Bob Campbell',\n",
       " \"Thomas O'Connor\",\n",
       " 'Justine Elias',\n",
       " 'John Dooley',\n",
       " 'B.J. Sigesmund',\n",
       " 'Athima Chansanchai',\n",
       " 'Nicole Arthur',\n",
       " 'Ted Anthony',\n",
       " 'Henry Cabot Beck',\n",
       " 'Phoebe Flowers',\n",
       " 'Dick Kreck',\n",
       " 'Douglas Cruickshank',\n",
       " 'Daniel Mangin',\n",
       " 'Barbara Shulgasser',\n",
       " 'Jeffrey Wells',\n",
       " 'Andrea C. Basora',\n",
       " 'John Patterson',\n",
       " 'Robin Rauzi',\n",
       " 'Rashod D. Ollison',\n",
       " 'Doug Saunders',\n",
       " 'Hannah Brown',\n",
       " 'Simon Houpt',\n",
       " 'Jim Ridley',\n",
       " 'John Hofsess',\n",
       " 'Nina Caplan',\n",
       " 'Ben Kenigsberg',\n",
       " 'Jonathan Holland',\n",
       " 'Charles Ealy',\n",
       " 'Cate McQuaid',\n",
       " \"Peter L'Official\",\n",
       " 'Al Brumley',\n",
       " 'Ron Givens',\n",
       " 'Jim Sullivan',\n",
       " 'Jonas Mekas',\n",
       " 'Howard Cohen',\n",
       " 'Steve Marinucci',\n",
       " 'Al Finestone',\n",
       " 'Sam Hurwitt',\n",
       " 'Tony Wong',\n",
       " 'Chelsea Bain',\n",
       " 'Adam Markovitz',\n",
       " 'Lawrence Terenzi',\n",
       " 'John Moore',\n",
       " 'Lawson Taitte',\n",
       " 'Harold C. Schonberg',\n",
       " 'Ana Marie Cox',\n",
       " 'Scott Bowles',\n",
       " 'Sean Howe',\n",
       " 'Patrick Z. McGavin',\n",
       " 'Mary Houlihan',\n",
       " 'Joan Anderman',\n",
       " 'Joe McGovern',\n",
       " 'Fred Camper',\n",
       " 'Deborah Young',\n",
       " 'Gene Moskowitz',\n",
       " 'Edward Margulies',\n",
       " 'King Kaufman',\n",
       " 'Bruce McCabe',\n",
       " 'Julia Wallace',\n",
       " 'Russell Edwards',\n",
       " 'Martin Hoyle',\n",
       " 'Mark Chalon Smith',\n",
       " 'Vanessa E. Jones',\n",
       " 'Robert Dominguez',\n",
       " 'G. Allen Johnson',\n",
       " 'Bob Thomas',\n",
       " 'Ted Gideonse',\n",
       " 'Leslie Camhi',\n",
       " 'Matt Weitz',\n",
       " 'Allan Johnson',\n",
       " 'Rodney Ho',\n",
       " 'Dave Larsen',\n",
       " 'Chris Garcia',\n",
       " 'Gary Schwan',\n",
       " 'Ken Hoffman']"
      ]
     },
     "execution_count": 4,
     "metadata": {},
     "output_type": "execute_result"
    }
   ],
   "source": [
    "critics['critic'].unique().tolist()\n"
   ]
  },
  {
   "cell_type": "code",
   "execution_count": 5,
   "metadata": {},
   "outputs": [],
   "source": [
    "df1 = critics[critics.fresh == 'fresh']\n",
    "\n",
    "df2 = critics[critics.fresh == 'rotten']\n",
    "\n",
    "#df1.groupby(['critic'])['fresh'].count()\n",
    "#df2.groupby(['critic'])['fresh'].count()"
   ]
  },
  {
   "cell_type": "markdown",
   "metadata": {},
   "source": [
    "### Explore"
   ]
  },
  {
   "cell_type": "code",
   "execution_count": 6,
   "metadata": {},
   "outputs": [
    {
     "name": "stdout",
     "output_type": "stream",
     "text": [
      "Number of reviews: 15561\n",
      "Number of critics: 623\n",
      "Number of movies:  1921\n"
     ]
    }
   ],
   "source": [
    "n_reviews = len(critics)\n",
    "n_movies = critics.rtid.unique().size\n",
    "n_critics = critics.critic.unique().size\n",
    "\n",
    "\n",
    "print(\"Number of reviews: {:d}\".format(n_reviews))\n",
    "print(\"Number of critics: {:d}\".format(n_critics))\n",
    "print(\"Number of movies:  {:d}\".format(n_movies))"
   ]
  },
  {
   "cell_type": "code",
   "execution_count": 7,
   "metadata": {},
   "outputs": [
    {
     "name": "stdout",
     "output_type": "stream",
     "text": [
      "number of critics with reviews > 100 = 37\n"
     ]
    },
    {
     "data": {
      "text/plain": [
       "([<matplotlib.axis.YTick at 0x106059b0>,\n",
       "  <matplotlib.axis.YTick at 0x10605240>,\n",
       "  <matplotlib.axis.YTick at 0x105dda90>,\n",
       "  <matplotlib.axis.YTick at 0x1064bb70>,\n",
       "  <matplotlib.axis.YTick at 0x1064b7b8>,\n",
       "  <matplotlib.axis.YTick at 0x1064bcc0>],\n",
       " <a list of 6 Text yticklabel objects>)"
      ]
     },
     "execution_count": 7,
     "metadata": {},
     "output_type": "execute_result"
    },
    {
     "data": {
      "image/png": "[encoded data removed]",
      "text/plain": [
       "<Figure size 1080x360 with 1 Axes>"
      ]
     },
     "metadata": {
      "needs_background": "light"
     },
     "output_type": "display_data"
    }
   ],
   "source": [
    "df = critics.copy()\n",
    "df['fresh'] = df.fresh == 'fresh'\n",
    "grp = df.groupby('critic')\n",
    "counts = grp.critic.count()  # number of reviews by each critic\n",
    "means = grp.fresh.mean()     # average freshness for each critic\n",
    "print(\"number of critics with reviews > 100 = {}\".format(len(counts[counts>100])))\n",
    "\n",
    "plt.figure(figsize=(15,5))\n",
    "means[counts > 100].hist(bins=10, edgecolor='w', lw=1)\n",
    "_ = plt.axvline(np.mean(means[counts > 100]), color='r', linestyle='dashed', linewidth=1)\n",
    "_ = plt.axvline(np.median(means[counts > 20]), color='k', linestyle='dashed', linewidth=1)\n",
    "\n",
    "plt.xlabel(\"Average Rating per critic\")\n",
    "plt.ylabel(\"Number of Critics\")\n",
    "plt.yticks([0, 2, 4, 6, 8, 10])"
   ]
  },
  {
   "cell_type": "code",
   "execution_count": 8,
   "metadata": {},
   "outputs": [
    {
     "data": {
      "text/plain": [
       "0.5973196238943227"
      ]
     },
     "execution_count": 8,
     "metadata": {},
     "output_type": "execute_result"
    }
   ],
   "source": [
    "np.mean(means)"
   ]
  },
  {
   "cell_type": "code",
   "execution_count": 9,
   "metadata": {},
   "outputs": [
    {
     "data": {
      "text/plain": [
       "Text(0, 0.5, 'Number of Critics')"
      ]
     },
     "execution_count": 9,
     "metadata": {},
     "output_type": "execute_result"
    },
    {
     "data": {
      "image/png": "[encoded data removed]",
      "text/plain": [
       "<Figure size 1440x1440 with 4 Axes>"
      ]
     },
     "metadata": {
      "needs_background": "light"
     },
     "output_type": "display_data"
    }
   ],
   "source": [
    "plt.figure(figsize=(20,20))\n",
    "\n",
    "plt.subplot(2,2,1)\n",
    "means.hist(bins=10, edgecolor='w', lw=1)\n",
    "_ = plt.axvline(np.mean(means), color='r', linestyle='dashed', linewidth=1)\n",
    "plt.xlabel(\"Average Rating per critic\")\n",
    "plt.ylabel(\"Number of Critics\")\n",
    "\n",
    "plt.subplot(2,2,2)\n",
    "means[counts > 20].hist(bins=10, edgecolor='w', lw=1)\n",
    "_ = plt.axvline(np.mean(means[counts > 20]), color='r', linestyle='dashed', linewidth=1)\n",
    "plt.title(\"number of reviews by each critic > 50\")\n",
    "plt.xlabel(\"Average Rating per critic\")\n",
    "plt.ylabel(\"Number of Critics\")\n",
    "\n",
    "plt.subplot(2,2,3)\n",
    "means[counts > 50].hist(bins=10, edgecolor='w', lw=1)\n",
    "_ = plt.axvline(np.mean(means[counts > 50]), color='r', linestyle='dashed', linewidth=1)\n",
    "plt.title(\"number of reviews by each critic > 50\")\n",
    "plt.xlabel(\"Average Rating per critic\")\n",
    "plt.ylabel(\"Number of Critics\")\n",
    "plt.title(\"number of reviews by each critic > 50\")\n",
    "\n",
    "plt.subplot(2,2,4)\n",
    "means[counts > 100].hist(bins=10, edgecolor='w', lw=1)\n",
    "_ = plt.axvline(np.mean(means[counts > 100]), color='r', linestyle='dashed', linewidth=1)\n",
    "plt.title(\"number of reviews by each critic > 100\")\n",
    "plt.xlabel(\"Average Rating per critic\")\n",
    "plt.ylabel(\"Number of Critics\")\n"
   ]
  },
  {
   "cell_type": "code",
   "execution_count": 10,
   "metadata": {},
   "outputs": [
    {
     "data": {
      "text/plain": [
       "66"
      ]
     },
     "execution_count": 10,
     "metadata": {},
     "output_type": "execute_result"
    }
   ],
   "source": [
    "len(counts[counts>50])"
   ]
  },
  {
   "cell_type": "markdown",
   "metadata": {},
   "source": [
    "<div class=\"span5 alert alert-info\">\n",
    "<h3>Exercise Set I</h3>\n",
    "<br/>\n",
    "<b>Exercise:</b> Look at the histogram above. Tell a story about the average ratings per critic. What shape does the distribution look like? What is interesting about the distribution? What might explain these interesting things?\n",
    "</div>"
   ]
  },
  {
   "cell_type": "code",
   "execution_count": 11,
   "metadata": {},
   "outputs": [],
   "source": [
    "#counts\n",
    "#means"
   ]
  },
  {
   "cell_type": "markdown",
   "metadata": {},
   "source": [
    "The shape of the histogram for the average rating per critic depends on the number of reviews made by the critic count.       For counts > 100, there seems like a bimodal distribution with a normal behaviour. There are only 37 critics who gave more than 100 reviews. The mean  and median of the distribution is close to 0.6,it means rating of 0.6 is most common rating .\n",
    "\n",
    "For counts > 50, however, the distribution is very close to normal,again with mean rating being 0.6. .\n",
    "\n",
    "Without any threshold value for count, the distribution is normal with two peaks for 0 rating and 1 ratings, there are more critics who gave rating above 0.5 than lower ratings."
   ]
  },
  {
   "cell_type": "markdown",
   "metadata": {},
   "source": [
    "## The Vector Space Model and a Search Engine"
   ]
  },
  {
   "cell_type": "markdown",
   "metadata": {},
   "source": [
    "All the diagrams here are snipped from [*Introduction to Information Retrieval* by Manning et. al.]( http://nlp.stanford.edu/IR-book/) which is a great resource on text processing. For additional information on text mining and natural language processing, see [*Foundations of Statistical Natural Language Processing* by Manning and Schutze](http://nlp.stanford.edu/fsnlp/).\n",
    "\n",
    "Also check out Python packages [`nltk`](http://www.nltk.org/), [`spaCy`](https://spacy.io/), [`pattern`](http://www.clips.ua.ac.be/pattern), and their associated resources. Also see [`word2vec`](https://en.wikipedia.org/wiki/Word2vec).\n",
    "\n",
    "Let us define the vector derived from document $d$ by $\\bar V(d)$. What does this mean? Each document is treated as a vector containing information about the words contained in it. Each vector has the same length and each entry \"slot\" in the vector contains some kind of data about the words that appear in the document such as presence/absence (1/0), count (an integer) or some other statistic. Each vector has the same length because each document shared the same vocabulary across the full collection of documents -- this collection is called a *corpus*.\n",
    "\n",
    "To define the vocabulary, we take a union of all words we have seen in all documents. We then just associate an array index with them. So \"hello\" may be at index 5 and \"world\" at index 99.\n",
    "\n",
    "Suppose we have the following corpus:\n",
    "\n",
    "`A Fox one day spied a beautiful bunch of ripe grapes hanging from a vine trained along the branches of a tree. The grapes seemed ready to burst with juice, and the Fox's mouth watered as he gazed longingly at them.`\n",
    "\n",
    "Suppose we treat each sentence as a document $d$. The vocabulary (often called the *lexicon*) is the following:\n",
    "\n",
    "$V = \\left\\{\\right.$ `a, along, and, as, at, beautiful, branches, bunch, burst, day, fox, fox's, from, gazed, grapes, hanging, he, juice, longingly, mouth, of, one, ready, ripe, seemed, spied, the, them, to, trained, tree, vine, watered, with`$\\left.\\right\\}$\n",
    "\n",
    "Then the document\n",
    "\n",
    "`A Fox one day spied a beautiful bunch of ripe grapes hanging from a vine trained along the branches of a tree`\n",
    "\n",
    "may be represented as the following sparse vector of word counts:\n",
    "\n",
    "$$\\bar V(d) = \\left( 4,1,0,0,0,1,1,1,0,1,1,0,1,0,1,1,0,0,0,0,2,1,0,1,0,0,1,0,0,1,1,1,0,0 \\right)$$\n",
    "\n",
    "or more succinctly as\n",
    "\n",
    "`[(0, 4), (1, 1), (5, 1), (6, 1), (7, 1), (9, 1), (10, 1), (12, 1), (14, 1), (15, 1), (20, 2), (21, 1), (23, 1),`\n",
    "`(26, 1), (29,1), (30, 1), (31, 1)]`\n",
    "\n",
    "along with a dictionary\n",
    "\n",
    "``\n",
    "{\n",
    "    0: a, 1: along, 5: beautiful, 6: branches, 7: bunch, 9: day, 10: fox, 12: from, 14: grapes, 15: hanging, 19: mouth, 20: of, 21: one, 23: ripe, 24: seemed, 25: spied, 26: the, 29:trained, 30: tree, 31: vine, \n",
    "}\n",
    "``\n",
    "\n",
    "Then, a set of documents becomes, in the usual `sklearn` style, a sparse matrix with rows being sparse arrays representing documents and columns representing the features/words in the vocabulary.\n",
    "\n",
    "Notice that this representation loses the relative ordering of the terms in the document. That is \"cat ate rat\" and \"rat ate cat\" are the same. Thus, this representation is also known as the Bag-Of-Words representation.\n",
    "\n",
    "Here is another example, from the book quoted above, although the matrix is transposed here so that documents are columns:\n",
    "\n",
    "![novel terms](terms.png)\n",
    "\n",
    "Such a matrix is also catted a Term-Document Matrix. Here, the terms being indexed could be stemmed before indexing; for instance, `jealous` and `jealousy` after stemming are the same feature. One could also make use of other \"Natural Language Processing\" transformations in constructing the vocabulary. We could use Lemmatization, which reduces words to lemmas: work, working, worked would all reduce to work. We could remove \"stopwords\" from our vocabulary, such as common words like \"the\". We could look for particular parts of speech, such as adjectives. This is often done in Sentiment Analysis. And so on. It all depends on our application.\n",
    "\n",
    "From the book:\n",
    ">The standard way of quantifying the similarity between two documents $d_1$ and $d_2$  is to compute the cosine similarity of their vector representations $\\bar V(d_1)$ and $\\bar V(d_2)$:\n",
    "\n",
    "$$S_{12} = \\frac{\\bar V(d_1) \\cdot \\bar V(d_2)}{|\\bar V(d_1)| \\times |\\bar V(d_2)|}$$\n",
    "\n",
    "![Vector Space Model](vsm.png)\n",
    "\n",
    "\n",
    ">There is a far more compelling reason to represent documents as vectors: we can also view a query as a vector. Consider the query q = jealous gossip. This query turns into the unit vector $\\bar V(q)$ = (0, 0.707, 0.707) on the three coordinates below. \n",
    "\n",
    "![novel terms](terms2.png)\n",
    "\n",
    ">The key idea now: to assign to each document d a score equal to the dot product:\n",
    "\n",
    "$$\\bar V(q) \\cdot \\bar V(d)$$\n",
    "\n",
    "Then we can use this simple Vector Model as a Search engine."
   ]
  },
  {
   "cell_type": "markdown",
   "metadata": {},
   "source": [
    "### In Code"
   ]
  },
  {
   "cell_type": "code",
   "execution_count": 12,
   "metadata": {},
   "outputs": [
    {
     "name": "stdout",
     "output_type": "stream",
     "text": [
      "Original text is\n",
      "Hop on pop\n",
      "Hop off pop\n",
      "Hop Hop hop\n",
      "\n",
      "Transformed text vector is \n",
      "[[1 0 1 1]\n",
      " [1 1 0 1]\n",
      " [3 0 0 0]]\n",
      "\n",
      "Words for each feature:\n",
      "['hop', 'off', 'on', 'pop']\n"
     ]
    }
   ],
   "source": [
    "from sklearn.feature_extraction.text import CountVectorizer\n",
    "\n",
    "text = ['Hop on pop', 'Hop off pop', 'Hop Hop hop']\n",
    "print(\"Original text is\\n{}\".format('\\n'.join(text)))\n",
    "\n",
    "vectorizer = CountVectorizer(min_df=0)\n",
    "\n",
    "# call `fit` to build the vocabulary\n",
    "vectorizer.fit(text)\n",
    "\n",
    "# call `transform` to convert text to a bag of words\n",
    "x = vectorizer.transform(text)\n",
    "\n",
    "# CountVectorizer uses a sparse array to save memory, but it's easier in this assignment to \n",
    "# convert back to a \"normal\" numpy array\n",
    "x = x.toarray()\n",
    "\n",
    "print(\"\")\n",
    "print(\"Transformed text vector is \\n{}\".format(x))\n",
    "\n",
    "# `get_feature_names` tracks which word is associated with each column of the transformed x\n",
    "print(\"\")\n",
    "print(\"Words for each feature:\")\n",
    "print(vectorizer.get_feature_names())\n",
    "\n",
    "# Notice that the bag of words treatment doesn't preserve information about the *order* of words, \n",
    "# just their frequency"
   ]
  },
  {
   "cell_type": "code",
   "execution_count": 13,
   "metadata": {
    "scrolled": false
   },
   "outputs": [],
   "source": [
    "def make_xy(critics, vectorizer=None):\n",
    "    #Your code here    \n",
    "    if vectorizer is None:\n",
    "        vectorizer = CountVectorizer()\n",
    "    X = vectorizer.fit_transform(critics.quote)\n",
    "    X = X.tocsc()  # some versions of sklearn return COO format\n",
    "    y = (critics.fresh == 'fresh').values.astype(np.int)\n",
    "    #print(len(vectorizer.get_feature_names()))\n",
    "    return X, y\n",
    "X, y = make_xy(critics)"
   ]
  },
  {
   "cell_type": "code",
   "execution_count": null,
   "metadata": {},
   "outputs": [],
   "source": []
  },
  {
   "cell_type": "code",
   "execution_count": 14,
   "metadata": {},
   "outputs": [
    {
     "data": {
      "text/plain": [
       "(scipy.sparse.csc.csc_matrix, numpy.ndarray)"
      ]
     },
     "execution_count": 14,
     "metadata": {},
     "output_type": "execute_result"
    }
   ],
   "source": [
    "type(X),type(y)"
   ]
  },
  {
   "cell_type": "markdown",
   "metadata": {},
   "source": [
    "## Naive Bayes"
   ]
  },
  {
   "cell_type": "markdown",
   "metadata": {},
   "source": [
    "From Bayes' Theorem, we have that\n",
    "\n",
    "$$P(c \\vert f) = \\frac{P(c \\cap f)}{P(f)}$$\n",
    "\n",
    "where $c$ represents a *class* or category, and $f$ represents a feature vector, such as $\\bar V(d)$ as above. **We are computing the probability that a document (or whatever we are classifying) belongs to category *c* given the features in the document.** $P(f)$ is really just a normalization constant, so the literature usually writes Bayes' Theorem in context of Naive Bayes as\n",
    "\n",
    "$$P(c \\vert f) \\propto P(f \\vert c) P(c) $$\n",
    "\n",
    "$P(c)$ is called the *prior* and is simply the probability of seeing class $c$. But what is $P(f \\vert c)$? This is the probability that we see feature set $f$ given that this document is actually in class $c$. This is called the *likelihood* and comes from the data. One of the major assumptions of the Naive Bayes model is that the features are *conditionally independent* given the class. While the presence of a particular discriminative word may uniquely identify the document as being part of class $c$ and thus violate general feature independence, conditional independence means that the presence of that term is independent of all the other words that appear *within that class*. This is a very important distinction. Recall that if two events are independent, then:\n",
    "\n",
    "$$P(A \\cap B) = P(A) \\cdot P(B)$$\n",
    "\n",
    "Thus, conditional independence implies\n",
    "\n",
    "$$P(f \\vert c)  = \\prod_i P(f_i | c) $$\n",
    "\n",
    "where $f_i$ is an individual feature (a word in this example).\n",
    "\n",
    "To make a classification, we then choose the class $c$ such that $P(c \\vert f)$ is maximal.\n",
    "\n",
    "There is a small caveat when computing these probabilities. For [floating point underflow](http://nlp.stanford.edu/IR-book/html/htmledition/naive-bayes-text-classification-1.html) we change the product into a sum by going into log space. This is called the LogSumExp trick. So:\n",
    "\n",
    "$$\\log P(f \\vert c)  = \\sum_i \\log P(f_i \\vert c) $$\n",
    "\n",
    "There is another caveat. What if we see a term that didn't exist in the training data? This means that $P(f_i \\vert c) = 0$ for that term, and thus $P(f \\vert c)  = \\prod_i P(f_i | c) = 0$, which doesn't help us at all. Instead of using zeros, we add a small negligible value called $\\alpha$ to each count. This is called Laplace Smoothing.\n",
    "\n",
    "$$P(f_i \\vert c) = \\frac{N_{ic}+\\alpha}{N_c + \\alpha N_i}$$\n",
    "\n",
    "where $N_{ic}$ is the number of times feature $i$ was seen in class $c$, $N_c$ is the number of times class $c$ was seen and $N_i$ is the number of times feature $i$ was seen globally. $\\alpha$ is sometimes called a regularization parameter."
   ]
  },
  {
   "cell_type": "markdown",
   "metadata": {},
   "source": [
    "### Multinomial Naive Bayes and Other Likelihood Functions\n",
    "\n",
    "Since we are modeling word counts, we are using variation of Naive Bayes called Multinomial Naive Bayes. This is because the likelihood function actually takes the form of the multinomial distribution.\n",
    "\n",
    "$$P(f \\vert c) = \\frac{\\left( \\sum_i f_i \\right)!}{\\prod_i f_i!} \\prod_{f_i} P(f_i \\vert c)^{f_i} \\propto \\prod_{i} P(f_i \\vert c)$$\n",
    "\n",
    "where the nasty term out front is absorbed as a normalization constant such that probabilities sum to 1.\n",
    "\n",
    "There are many other variations of Naive Bayes, all which depend on what type of value $f_i$ takes. If $f_i$ is continuous, we may be able to use *Gaussian Naive Bayes*. First compute the mean and variance for each class $c$. Then the likelihood, $P(f \\vert c)$ is given as follows\n",
    "\n",
    "$$P(f_i = v \\vert c) = \\frac{1}{\\sqrt{2\\pi \\sigma^2_c}} e^{- \\frac{\\left( v - \\mu_c \\right)^2}{2 \\sigma^2_c}}$$"
   ]
  },
  {
   "cell_type": "markdown",
   "metadata": {},
   "source": [
    "<div class=\"span5 alert alert-info\">\n",
    "<h3>Exercise Set II</h3>\n",
    "\n",
    "<p><b>Exercise:</b> Implement a simple Naive Bayes classifier:</p>\n",
    "\n",
    "<ol>\n",
    "<li> split the data set into a training and test set\n",
    "<li> Use `scikit-learn`'s `MultinomialNB()` classifier with default parameters.\n",
    "<li> train the classifier over the training set and test on the test set\n",
    "<li> print the accuracy scores for both the training and the test sets\n",
    "</ol>\n",
    "\n",
    "What do you notice? Is this a good classifier? If not, why not?\n",
    "</div>"
   ]
  },
  {
   "cell_type": "code",
   "execution_count": 15,
   "metadata": {},
   "outputs": [],
   "source": [
    "#your turn\n",
    "\n",
    "from sklearn.model_selection import train_test_split\n",
    "from sklearn.naive_bayes import MultinomialNB"
   ]
  },
  {
   "cell_type": "code",
   "execution_count": 16,
   "metadata": {},
   "outputs": [
    {
     "name": "stdout",
     "output_type": "stream",
     "text": [
      "Test Score:  0.7689539964019533\n",
      "Train Score:  0.9218508997429306\n"
     ]
    }
   ],
   "source": [
    "X_train, X_test, Y_train, Y_test = train_test_split(X, y, train_size=0.75, test_size=0.25, stratify=y)\n",
    "\n",
    "model = MultinomialNB()\n",
    "model.fit(X_train, Y_train)\n",
    "print(\"Test Score: \", model.score(X_test, Y_test))\n",
    "print(\"Train Score: \", model.score(X_train, Y_train))"
   ]
  },
  {
   "cell_type": "markdown",
   "metadata": {},
   "source": [
    "As the accuracy score for Training data is 92.3%  and for test data it is 76.8%  , it seems like model is overfitting for the training data, model may  not be the best ,  but still it is good enough for the dataset."
   ]
  },
  {
   "cell_type": "markdown",
   "metadata": {},
   "source": [
    "### Picking Hyperparameters for Naive Bayes and Text Maintenance"
   ]
  },
  {
   "cell_type": "markdown",
   "metadata": {},
   "source": [
    "We need to know what value to use for $\\alpha$, and we also need to know which words to include in the vocabulary. As mentioned earlier, some words are obvious stopwords. Other words appear so infrequently that they serve as noise, and other words in addition to stopwords appear so frequently that they may also serve as noise."
   ]
  },
  {
   "cell_type": "markdown",
   "metadata": {},
   "source": [
    "First, let's find an appropriate value for `min_df` for the `CountVectorizer`. `min_df` can be either an integer or a float/decimal. If it is an integer, `min_df` represents the minimum number of documents a word must appear in for it to be included in the vocabulary. If it is a float, it represents the minimum *percentage* of documents a word must appear in to be included in the vocabulary. From the documentation:"
   ]
  },
  {
   "cell_type": "markdown",
   "metadata": {},
   "source": [
    ">min_df: When building the vocabulary ignore terms that have a document frequency strictly lower than the given threshold. This value is also called cut-off in the literature. If float, the parameter represents a proportion of documents, integer absolute counts. This parameter is ignored if vocabulary is not None."
   ]
  },
  {
   "cell_type": "markdown",
   "metadata": {},
   "source": [
    "<div class=\"span5 alert alert-info\">\n",
    "<h3>Exercise Set III</h3>\n",
    "\n",
    "<p><b>Exercise:</b> Construct the cumulative distribution of document frequencies (df). The $x$-axis is a document count $x_i$ and the $y$-axis is the percentage of words that appear less than $x_i$ times. For example, at $x=5$, plot a point representing the percentage or number of words that appear in 5 or fewer documents.</p>\n",
    "\n",
    "<p><b>Exercise:</b> Look for the point at which the curve begins climbing steeply. This may be a good value for `min_df`. If we were interested in also picking `max_df`, we would likely pick the value where the curve starts to plateau. What value did you choose?</p>\n",
    "</div>"
   ]
  },
  {
   "cell_type": "code",
   "execution_count": 60,
   "metadata": {},
   "outputs": [
    {
     "data": {
      "text/html": [
       "<div>\n",
       "<style scoped>\n",
       "    .dataframe tbody tr th:only-of-type {\n",
       "        vertical-align: middle;\n",
       "    }\n",
       "\n",
       "    .dataframe tbody tr th {\n",
       "        vertical-align: top;\n",
       "    }\n",
       "\n",
       "    .dataframe thead th {\n",
       "        text-align: right;\n",
       "    }\n",
       "</style>\n",
       "<table border=\"1\" class=\"dataframe\">\n",
       "  <thead>\n",
       "    <tr style=\"text-align: right;\">\n",
       "      <th></th>\n",
       "      <th>000</th>\n",
       "      <th>0014</th>\n",
       "      <th>007</th>\n",
       "      <th>044</th>\n",
       "      <th>07</th>\n",
       "      <th>10</th>\n",
       "      <th>100</th>\n",
       "      <th>101</th>\n",
       "      <th>102</th>\n",
       "      <th>104</th>\n",
       "      <th>105</th>\n",
       "      <th>108</th>\n",
       "      <th>10th</th>\n",
       "      <th>11</th>\n",
       "      <th>110</th>\n",
       "      <th>112</th>\n",
       "      <th>1138</th>\n",
       "      <th>114</th>\n",
       "      <th>118</th>\n",
       "      <th>11th</th>\n",
       "      <th>12</th>\n",
       "      <th>124</th>\n",
       "      <th>125</th>\n",
       "      <th>128</th>\n",
       "      <th>13</th>\n",
       "      <th>130</th>\n",
       "      <th>131</th>\n",
       "      <th>132</th>\n",
       "      <th>133</th>\n",
       "      <th>134</th>\n",
       "      <th>136</th>\n",
       "      <th>137</th>\n",
       "      <th>13th</th>\n",
       "      <th>14</th>\n",
       "      <th>141</th>\n",
       "      <th>145</th>\n",
       "      <th>15</th>\n",
       "      <th>153</th>\n",
       "      <th>15th</th>\n",
       "      <th>16</th>\n",
       "      <th>160</th>\n",
       "      <th>161</th>\n",
       "      <th>1660s</th>\n",
       "      <th>16mm</th>\n",
       "      <th>16th</th>\n",
       "      <th>17</th>\n",
       "      <th>17th</th>\n",
       "      <th>18</th>\n",
       "      <th>180</th>\n",
       "      <th>185</th>\n",
       "      <th>...</th>\n",
       "      <th>zellweger</th>\n",
       "      <th>zemeckis</th>\n",
       "      <th>zen</th>\n",
       "      <th>zero</th>\n",
       "      <th>zeroes</th>\n",
       "      <th>zest</th>\n",
       "      <th>zestfully</th>\n",
       "      <th>zesty</th>\n",
       "      <th>zeta</th>\n",
       "      <th>zhang</th>\n",
       "      <th>zhivago</th>\n",
       "      <th>ziggurats</th>\n",
       "      <th>zigs</th>\n",
       "      <th>zigzag</th>\n",
       "      <th>zigzags</th>\n",
       "      <th>zillion</th>\n",
       "      <th>zimmer</th>\n",
       "      <th>zing</th>\n",
       "      <th>zinger</th>\n",
       "      <th>zingers</th>\n",
       "      <th>zings</th>\n",
       "      <th>zingy</th>\n",
       "      <th>zinnemann</th>\n",
       "      <th>zinner</th>\n",
       "      <th>zip</th>\n",
       "      <th>zipper</th>\n",
       "      <th>zippo</th>\n",
       "      <th>zippy</th>\n",
       "      <th>zips</th>\n",
       "      <th>zirconium</th>\n",
       "      <th>zoe</th>\n",
       "      <th>zombie</th>\n",
       "      <th>zombies</th>\n",
       "      <th>zombified</th>\n",
       "      <th>zonca</th>\n",
       "      <th>zone</th>\n",
       "      <th>zoning</th>\n",
       "      <th>zoo</th>\n",
       "      <th>zoological</th>\n",
       "      <th>zoom</th>\n",
       "      <th>zooming</th>\n",
       "      <th>zooms</th>\n",
       "      <th>zorro</th>\n",
       "      <th>zorros</th>\n",
       "      <th>zowie</th>\n",
       "      <th>zucker</th>\n",
       "      <th>zweibel</th>\n",
       "      <th>zwick</th>\n",
       "      <th>zzzzzs</th>\n",
       "      <th>zzzzzzzzz</th>\n",
       "    </tr>\n",
       "  </thead>\n",
       "  <tbody>\n",
       "    <tr>\n",
       "      <th>0</th>\n",
       "      <td>0</td>\n",
       "      <td>0</td>\n",
       "      <td>0</td>\n",
       "      <td>0</td>\n",
       "      <td>0</td>\n",
       "      <td>0</td>\n",
       "      <td>0</td>\n",
       "      <td>0</td>\n",
       "      <td>0</td>\n",
       "      <td>0</td>\n",
       "      <td>0</td>\n",
       "      <td>0</td>\n",
       "      <td>0</td>\n",
       "      <td>0</td>\n",
       "      <td>0</td>\n",
       "      <td>0</td>\n",
       "      <td>0</td>\n",
       "      <td>0</td>\n",
       "      <td>0</td>\n",
       "      <td>0</td>\n",
       "      <td>0</td>\n",
       "      <td>0</td>\n",
       "      <td>0</td>\n",
       "      <td>0</td>\n",
       "      <td>0</td>\n",
       "      <td>0</td>\n",
       "      <td>0</td>\n",
       "      <td>0</td>\n",
       "      <td>0</td>\n",
       "      <td>0</td>\n",
       "      <td>0</td>\n",
       "      <td>0</td>\n",
       "      <td>0</td>\n",
       "      <td>0</td>\n",
       "      <td>0</td>\n",
       "      <td>0</td>\n",
       "      <td>0</td>\n",
       "      <td>0</td>\n",
       "      <td>0</td>\n",
       "      <td>0</td>\n",
       "      <td>0</td>\n",
       "      <td>0</td>\n",
       "      <td>0</td>\n",
       "      <td>0</td>\n",
       "      <td>0</td>\n",
       "      <td>0</td>\n",
       "      <td>0</td>\n",
       "      <td>0</td>\n",
       "      <td>0</td>\n",
       "      <td>0</td>\n",
       "      <td>...</td>\n",
       "      <td>0</td>\n",
       "      <td>0</td>\n",
       "      <td>0</td>\n",
       "      <td>0</td>\n",
       "      <td>0</td>\n",
       "      <td>0</td>\n",
       "      <td>0</td>\n",
       "      <td>0</td>\n",
       "      <td>0</td>\n",
       "      <td>0</td>\n",
       "      <td>0</td>\n",
       "      <td>0</td>\n",
       "      <td>0</td>\n",
       "      <td>0</td>\n",
       "      <td>0</td>\n",
       "      <td>0</td>\n",
       "      <td>0</td>\n",
       "      <td>0</td>\n",
       "      <td>0</td>\n",
       "      <td>0</td>\n",
       "      <td>0</td>\n",
       "      <td>0</td>\n",
       "      <td>0</td>\n",
       "      <td>0</td>\n",
       "      <td>0</td>\n",
       "      <td>0</td>\n",
       "      <td>0</td>\n",
       "      <td>0</td>\n",
       "      <td>0</td>\n",
       "      <td>0</td>\n",
       "      <td>0</td>\n",
       "      <td>0</td>\n",
       "      <td>0</td>\n",
       "      <td>0</td>\n",
       "      <td>0</td>\n",
       "      <td>0</td>\n",
       "      <td>0</td>\n",
       "      <td>0</td>\n",
       "      <td>0</td>\n",
       "      <td>0</td>\n",
       "      <td>0</td>\n",
       "      <td>0</td>\n",
       "      <td>0</td>\n",
       "      <td>0</td>\n",
       "      <td>0</td>\n",
       "      <td>0</td>\n",
       "      <td>0</td>\n",
       "      <td>0</td>\n",
       "      <td>0</td>\n",
       "      <td>0</td>\n",
       "    </tr>\n",
       "    <tr>\n",
       "      <th>1</th>\n",
       "      <td>0</td>\n",
       "      <td>0</td>\n",
       "      <td>0</td>\n",
       "      <td>0</td>\n",
       "      <td>0</td>\n",
       "      <td>0</td>\n",
       "      <td>0</td>\n",
       "      <td>0</td>\n",
       "      <td>0</td>\n",
       "      <td>0</td>\n",
       "      <td>0</td>\n",
       "      <td>0</td>\n",
       "      <td>0</td>\n",
       "      <td>0</td>\n",
       "      <td>0</td>\n",
       "      <td>0</td>\n",
       "      <td>0</td>\n",
       "      <td>0</td>\n",
       "      <td>0</td>\n",
       "      <td>0</td>\n",
       "      <td>0</td>\n",
       "      <td>0</td>\n",
       "      <td>0</td>\n",
       "      <td>0</td>\n",
       "      <td>0</td>\n",
       "      <td>0</td>\n",
       "      <td>0</td>\n",
       "      <td>0</td>\n",
       "      <td>0</td>\n",
       "      <td>0</td>\n",
       "      <td>0</td>\n",
       "      <td>0</td>\n",
       "      <td>0</td>\n",
       "      <td>0</td>\n",
       "      <td>0</td>\n",
       "      <td>0</td>\n",
       "      <td>0</td>\n",
       "      <td>0</td>\n",
       "      <td>0</td>\n",
       "      <td>0</td>\n",
       "      <td>0</td>\n",
       "      <td>0</td>\n",
       "      <td>0</td>\n",
       "      <td>0</td>\n",
       "      <td>0</td>\n",
       "      <td>0</td>\n",
       "      <td>0</td>\n",
       "      <td>0</td>\n",
       "      <td>0</td>\n",
       "      <td>0</td>\n",
       "      <td>...</td>\n",
       "      <td>0</td>\n",
       "      <td>0</td>\n",
       "      <td>0</td>\n",
       "      <td>0</td>\n",
       "      <td>0</td>\n",
       "      <td>0</td>\n",
       "      <td>0</td>\n",
       "      <td>0</td>\n",
       "      <td>0</td>\n",
       "      <td>0</td>\n",
       "      <td>0</td>\n",
       "      <td>0</td>\n",
       "      <td>0</td>\n",
       "      <td>0</td>\n",
       "      <td>0</td>\n",
       "      <td>0</td>\n",
       "      <td>0</td>\n",
       "      <td>0</td>\n",
       "      <td>0</td>\n",
       "      <td>0</td>\n",
       "      <td>0</td>\n",
       "      <td>0</td>\n",
       "      <td>0</td>\n",
       "      <td>0</td>\n",
       "      <td>0</td>\n",
       "      <td>0</td>\n",
       "      <td>0</td>\n",
       "      <td>0</td>\n",
       "      <td>0</td>\n",
       "      <td>0</td>\n",
       "      <td>0</td>\n",
       "      <td>0</td>\n",
       "      <td>0</td>\n",
       "      <td>0</td>\n",
       "      <td>0</td>\n",
       "      <td>0</td>\n",
       "      <td>0</td>\n",
       "      <td>0</td>\n",
       "      <td>0</td>\n",
       "      <td>0</td>\n",
       "      <td>0</td>\n",
       "      <td>0</td>\n",
       "      <td>0</td>\n",
       "      <td>0</td>\n",
       "      <td>0</td>\n",
       "      <td>0</td>\n",
       "      <td>0</td>\n",
       "      <td>0</td>\n",
       "      <td>0</td>\n",
       "      <td>0</td>\n",
       "    </tr>\n",
       "    <tr>\n",
       "      <th>2</th>\n",
       "      <td>0</td>\n",
       "      <td>0</td>\n",
       "      <td>0</td>\n",
       "      <td>0</td>\n",
       "      <td>0</td>\n",
       "      <td>0</td>\n",
       "      <td>0</td>\n",
       "      <td>0</td>\n",
       "      <td>0</td>\n",
       "      <td>0</td>\n",
       "      <td>0</td>\n",
       "      <td>0</td>\n",
       "      <td>0</td>\n",
       "      <td>0</td>\n",
       "      <td>0</td>\n",
       "      <td>0</td>\n",
       "      <td>0</td>\n",
       "      <td>0</td>\n",
       "      <td>0</td>\n",
       "      <td>0</td>\n",
       "      <td>0</td>\n",
       "      <td>0</td>\n",
       "      <td>0</td>\n",
       "      <td>0</td>\n",
       "      <td>0</td>\n",
       "      <td>0</td>\n",
       "      <td>0</td>\n",
       "      <td>0</td>\n",
       "      <td>0</td>\n",
       "      <td>0</td>\n",
       "      <td>0</td>\n",
       "      <td>0</td>\n",
       "      <td>0</td>\n",
       "      <td>0</td>\n",
       "      <td>0</td>\n",
       "      <td>0</td>\n",
       "      <td>0</td>\n",
       "      <td>0</td>\n",
       "      <td>0</td>\n",
       "      <td>0</td>\n",
       "      <td>0</td>\n",
       "      <td>0</td>\n",
       "      <td>0</td>\n",
       "      <td>0</td>\n",
       "      <td>0</td>\n",
       "      <td>0</td>\n",
       "      <td>0</td>\n",
       "      <td>0</td>\n",
       "      <td>0</td>\n",
       "      <td>0</td>\n",
       "      <td>...</td>\n",
       "      <td>0</td>\n",
       "      <td>0</td>\n",
       "      <td>0</td>\n",
       "      <td>0</td>\n",
       "      <td>0</td>\n",
       "      <td>0</td>\n",
       "      <td>0</td>\n",
       "      <td>0</td>\n",
       "      <td>0</td>\n",
       "      <td>0</td>\n",
       "      <td>0</td>\n",
       "      <td>0</td>\n",
       "      <td>0</td>\n",
       "      <td>0</td>\n",
       "      <td>0</td>\n",
       "      <td>0</td>\n",
       "      <td>0</td>\n",
       "      <td>0</td>\n",
       "      <td>0</td>\n",
       "      <td>0</td>\n",
       "      <td>0</td>\n",
       "      <td>0</td>\n",
       "      <td>0</td>\n",
       "      <td>0</td>\n",
       "      <td>0</td>\n",
       "      <td>0</td>\n",
       "      <td>0</td>\n",
       "      <td>0</td>\n",
       "      <td>0</td>\n",
       "      <td>0</td>\n",
       "      <td>0</td>\n",
       "      <td>0</td>\n",
       "      <td>0</td>\n",
       "      <td>0</td>\n",
       "      <td>0</td>\n",
       "      <td>0</td>\n",
       "      <td>0</td>\n",
       "      <td>0</td>\n",
       "      <td>0</td>\n",
       "      <td>0</td>\n",
       "      <td>0</td>\n",
       "      <td>0</td>\n",
       "      <td>0</td>\n",
       "      <td>0</td>\n",
       "      <td>0</td>\n",
       "      <td>0</td>\n",
       "      <td>0</td>\n",
       "      <td>0</td>\n",
       "      <td>0</td>\n",
       "      <td>0</td>\n",
       "    </tr>\n",
       "    <tr>\n",
       "      <th>3</th>\n",
       "      <td>0</td>\n",
       "      <td>0</td>\n",
       "      <td>0</td>\n",
       "      <td>0</td>\n",
       "      <td>0</td>\n",
       "      <td>0</td>\n",
       "      <td>0</td>\n",
       "      <td>0</td>\n",
       "      <td>0</td>\n",
       "      <td>0</td>\n",
       "      <td>0</td>\n",
       "      <td>0</td>\n",
       "      <td>0</td>\n",
       "      <td>0</td>\n",
       "      <td>0</td>\n",
       "      <td>0</td>\n",
       "      <td>0</td>\n",
       "      <td>0</td>\n",
       "      <td>0</td>\n",
       "      <td>0</td>\n",
       "      <td>0</td>\n",
       "      <td>0</td>\n",
       "      <td>0</td>\n",
       "      <td>0</td>\n",
       "      <td>0</td>\n",
       "      <td>0</td>\n",
       "      <td>0</td>\n",
       "      <td>0</td>\n",
       "      <td>0</td>\n",
       "      <td>0</td>\n",
       "      <td>0</td>\n",
       "      <td>0</td>\n",
       "      <td>0</td>\n",
       "      <td>0</td>\n",
       "      <td>0</td>\n",
       "      <td>0</td>\n",
       "      <td>0</td>\n",
       "      <td>0</td>\n",
       "      <td>0</td>\n",
       "      <td>0</td>\n",
       "      <td>0</td>\n",
       "      <td>0</td>\n",
       "      <td>0</td>\n",
       "      <td>0</td>\n",
       "      <td>0</td>\n",
       "      <td>0</td>\n",
       "      <td>0</td>\n",
       "      <td>0</td>\n",
       "      <td>0</td>\n",
       "      <td>0</td>\n",
       "      <td>...</td>\n",
       "      <td>0</td>\n",
       "      <td>0</td>\n",
       "      <td>0</td>\n",
       "      <td>0</td>\n",
       "      <td>0</td>\n",
       "      <td>0</td>\n",
       "      <td>0</td>\n",
       "      <td>0</td>\n",
       "      <td>0</td>\n",
       "      <td>0</td>\n",
       "      <td>0</td>\n",
       "      <td>0</td>\n",
       "      <td>0</td>\n",
       "      <td>0</td>\n",
       "      <td>0</td>\n",
       "      <td>0</td>\n",
       "      <td>0</td>\n",
       "      <td>0</td>\n",
       "      <td>0</td>\n",
       "      <td>0</td>\n",
       "      <td>0</td>\n",
       "      <td>0</td>\n",
       "      <td>0</td>\n",
       "      <td>0</td>\n",
       "      <td>0</td>\n",
       "      <td>0</td>\n",
       "      <td>0</td>\n",
       "      <td>0</td>\n",
       "      <td>0</td>\n",
       "      <td>0</td>\n",
       "      <td>0</td>\n",
       "      <td>0</td>\n",
       "      <td>0</td>\n",
       "      <td>0</td>\n",
       "      <td>0</td>\n",
       "      <td>0</td>\n",
       "      <td>0</td>\n",
       "      <td>0</td>\n",
       "      <td>0</td>\n",
       "      <td>0</td>\n",
       "      <td>0</td>\n",
       "      <td>0</td>\n",
       "      <td>0</td>\n",
       "      <td>0</td>\n",
       "      <td>0</td>\n",
       "      <td>0</td>\n",
       "      <td>0</td>\n",
       "      <td>0</td>\n",
       "      <td>0</td>\n",
       "      <td>0</td>\n",
       "    </tr>\n",
       "    <tr>\n",
       "      <th>4</th>\n",
       "      <td>0</td>\n",
       "      <td>0</td>\n",
       "      <td>0</td>\n",
       "      <td>0</td>\n",
       "      <td>0</td>\n",
       "      <td>0</td>\n",
       "      <td>0</td>\n",
       "      <td>0</td>\n",
       "      <td>0</td>\n",
       "      <td>0</td>\n",
       "      <td>0</td>\n",
       "      <td>0</td>\n",
       "      <td>0</td>\n",
       "      <td>0</td>\n",
       "      <td>0</td>\n",
       "      <td>0</td>\n",
       "      <td>0</td>\n",
       "      <td>0</td>\n",
       "      <td>0</td>\n",
       "      <td>0</td>\n",
       "      <td>0</td>\n",
       "      <td>0</td>\n",
       "      <td>0</td>\n",
       "      <td>0</td>\n",
       "      <td>0</td>\n",
       "      <td>0</td>\n",
       "      <td>0</td>\n",
       "      <td>0</td>\n",
       "      <td>0</td>\n",
       "      <td>0</td>\n",
       "      <td>0</td>\n",
       "      <td>0</td>\n",
       "      <td>0</td>\n",
       "      <td>0</td>\n",
       "      <td>0</td>\n",
       "      <td>0</td>\n",
       "      <td>0</td>\n",
       "      <td>0</td>\n",
       "      <td>0</td>\n",
       "      <td>0</td>\n",
       "      <td>0</td>\n",
       "      <td>0</td>\n",
       "      <td>0</td>\n",
       "      <td>0</td>\n",
       "      <td>0</td>\n",
       "      <td>0</td>\n",
       "      <td>0</td>\n",
       "      <td>0</td>\n",
       "      <td>0</td>\n",
       "      <td>0</td>\n",
       "      <td>...</td>\n",
       "      <td>0</td>\n",
       "      <td>0</td>\n",
       "      <td>0</td>\n",
       "      <td>0</td>\n",
       "      <td>0</td>\n",
       "      <td>0</td>\n",
       "      <td>0</td>\n",
       "      <td>0</td>\n",
       "      <td>0</td>\n",
       "      <td>0</td>\n",
       "      <td>0</td>\n",
       "      <td>0</td>\n",
       "      <td>0</td>\n",
       "      <td>0</td>\n",
       "      <td>0</td>\n",
       "      <td>0</td>\n",
       "      <td>0</td>\n",
       "      <td>0</td>\n",
       "      <td>0</td>\n",
       "      <td>0</td>\n",
       "      <td>0</td>\n",
       "      <td>0</td>\n",
       "      <td>0</td>\n",
       "      <td>0</td>\n",
       "      <td>0</td>\n",
       "      <td>0</td>\n",
       "      <td>0</td>\n",
       "      <td>0</td>\n",
       "      <td>0</td>\n",
       "      <td>0</td>\n",
       "      <td>0</td>\n",
       "      <td>0</td>\n",
       "      <td>0</td>\n",
       "      <td>0</td>\n",
       "      <td>0</td>\n",
       "      <td>0</td>\n",
       "      <td>0</td>\n",
       "      <td>0</td>\n",
       "      <td>0</td>\n",
       "      <td>0</td>\n",
       "      <td>0</td>\n",
       "      <td>0</td>\n",
       "      <td>0</td>\n",
       "      <td>0</td>\n",
       "      <td>0</td>\n",
       "      <td>0</td>\n",
       "      <td>0</td>\n",
       "      <td>0</td>\n",
       "      <td>0</td>\n",
       "      <td>0</td>\n",
       "    </tr>\n",
       "  </tbody>\n",
       "</table>\n",
       "<p>5 rows × 22417 columns</p>\n",
       "</div>"
      ],
      "text/plain": [
       "   000  0014  007  044  07  10  100  101  102  104  105  108  10th  11  110  112  1138  114  118  11th  12  124  125  128  13  130  131  132  133  134  136  137  13th  14  141  145  15  153  15th  16  160  161  1660s  16mm  16th  17  17th  18  180  185    ...      zellweger  zemeckis  zen  zero  zeroes  zest  zestfully  zesty  zeta  zhang  zhivago  ziggurats  zigs  zigzag  zigzags  zillion  zimmer  zing  zinger  zingers  zings  zingy  zinnemann  zinner  zip  zipper  zippo  zippy  zips  \\\n",
       "0    0     0    0    0   0   0    0    0    0    0    0    0     0   0    0    0     0    0    0     0   0    0    0    0   0    0    0    0    0    0    0    0     0   0    0    0   0    0     0   0    0    0      0     0     0   0     0   0    0    0    ...              0         0    0     0       0     0          0      0     0      0        0          0     0       0        0        0       0     0       0        0      0      0          0       0    0       0      0      0     0   \n",
       "1    0     0    0    0   0   0    0    0    0    0    0    0     0   0    0    0     0    0    0     0   0    0    0    0   0    0    0    0    0    0    0    0     0   0    0    0   0    0     0   0    0    0      0     0     0   0     0   0    0    0    ...              0         0    0     0       0     0          0      0     0      0        0          0     0       0        0        0       0     0       0        0      0      0          0       0    0       0      0      0     0   \n",
       "2    0     0    0    0   0   0    0    0    0    0    0    0     0   0    0    0     0    0    0     0   0    0    0    0   0    0    0    0    0    0    0    0     0   0    0    0   0    0     0   0    0    0      0     0     0   0     0   0    0    0    ...              0         0    0     0       0     0          0      0     0      0        0          0     0       0        0        0       0     0       0        0      0      0          0       0    0       0      0      0     0   \n",
       "3    0     0    0    0   0   0    0    0    0    0    0    0     0   0    0    0     0    0    0     0   0    0    0    0   0    0    0    0    0    0    0    0     0   0    0    0   0    0     0   0    0    0      0     0     0   0     0   0    0    0    ...              0         0    0     0       0     0          0      0     0      0        0          0     0       0        0        0       0     0       0        0      0      0          0       0    0       0      0      0     0   \n",
       "4    0     0    0    0   0   0    0    0    0    0    0    0     0   0    0    0     0    0    0     0   0    0    0    0   0    0    0    0    0    0    0    0     0   0    0    0   0    0     0   0    0    0      0     0     0   0     0   0    0    0    ...              0         0    0     0       0     0          0      0     0      0        0          0     0       0        0        0       0     0       0        0      0      0          0       0    0       0      0      0     0   \n",
       "\n",
       "   zirconium  zoe  zombie  zombies  zombified  zonca  zone  zoning  zoo  zoological  zoom  zooming  zooms  zorro  zorros  zowie  zucker  zweibel  zwick  zzzzzs  zzzzzzzzz  \n",
       "0          0    0       0        0          0      0     0       0    0           0     0        0      0      0       0      0       0        0      0       0          0  \n",
       "1          0    0       0        0          0      0     0       0    0           0     0        0      0      0       0      0       0        0      0       0          0  \n",
       "2          0    0       0        0          0      0     0       0    0           0     0        0      0      0       0      0       0        0      0       0          0  \n",
       "3          0    0       0        0          0      0     0       0    0           0     0        0      0      0       0      0       0        0      0       0          0  \n",
       "4          0    0       0        0          0      0     0       0    0           0     0        0      0      0       0      0       0        0      0       0          0  \n",
       "\n",
       "[5 rows x 22417 columns]"
      ]
     },
     "execution_count": 60,
     "metadata": {},
     "output_type": "execute_result"
    }
   ],
   "source": [
    "cv = CountVectorizer()\n",
    "X1=cv.fit_transform(critics.quote).toarray()\n",
    "X1_df = pd.DataFrame(X1,columns = cv.get_feature_names())\n",
    "X1_df.head()"
   ]
  },
  {
   "cell_type": "code",
   "execution_count": 61,
   "metadata": {},
   "outputs": [],
   "source": [
    "word_doc_freq = X1_df.iloc[:,0:7000].sum(axis=0).transpose().reset_index()\n",
    "word_doc_freq.columns = ['Word', 'Doc Freq']\n",
    "#word_doc_freq.head()"
   ]
  },
  {
   "cell_type": "code",
   "execution_count": 66,
   "metadata": {},
   "outputs": [
    {
     "data": {
      "text/html": [
       "<div>\n",
       "<style scoped>\n",
       "    .dataframe tbody tr th:only-of-type {\n",
       "        vertical-align: middle;\n",
       "    }\n",
       "\n",
       "    .dataframe tbody tr th {\n",
       "        vertical-align: top;\n",
       "    }\n",
       "\n",
       "    .dataframe thead th {\n",
       "        text-align: right;\n",
       "    }\n",
       "</style>\n",
       "<table border=\"1\" class=\"dataframe\">\n",
       "  <thead>\n",
       "    <tr style=\"text-align: right;\">\n",
       "      <th></th>\n",
       "      <th>Word</th>\n",
       "      <th>Doc Freq</th>\n",
       "    </tr>\n",
       "  </thead>\n",
       "  <tbody>\n",
       "    <tr>\n",
       "      <th>0</th>\n",
       "      <td>000</td>\n",
       "      <td>8</td>\n",
       "    </tr>\n",
       "    <tr>\n",
       "      <th>1</th>\n",
       "      <td>0014</td>\n",
       "      <td>1</td>\n",
       "    </tr>\n",
       "    <tr>\n",
       "      <th>2</th>\n",
       "      <td>007</td>\n",
       "      <td>10</td>\n",
       "    </tr>\n",
       "    <tr>\n",
       "      <th>3</th>\n",
       "      <td>044</td>\n",
       "      <td>1</td>\n",
       "    </tr>\n",
       "    <tr>\n",
       "      <th>4</th>\n",
       "      <td>07</td>\n",
       "      <td>1</td>\n",
       "    </tr>\n",
       "  </tbody>\n",
       "</table>\n",
       "</div>"
      ],
      "text/plain": [
       "   Word  Doc Freq\n",
       "0   000         8\n",
       "1  0014         1\n",
       "2   007        10\n",
       "3   044         1\n",
       "4    07         1"
      ]
     },
     "execution_count": 66,
     "metadata": {},
     "output_type": "execute_result"
    }
   ],
   "source": [
    "word_doc_freq.head()"
   ]
  },
  {
   "cell_type": "code",
   "execution_count": 67,
   "metadata": {},
   "outputs": [],
   "source": [
    "word_doc_freq1 = X1_df.iloc[:,7000:14000].sum(axis=0).transpose().reset_index()\n",
    "word_doc_freq1.columns = ['Word', 'Doc Freq']"
   ]
  },
  {
   "cell_type": "code",
   "execution_count": 68,
   "metadata": {},
   "outputs": [],
   "source": [
    "word_doc_freq2 = X1_df.iloc[:,14000:].sum(axis=0).transpose().reset_index()\n",
    "word_doc_freq2.columns = ['Word', 'Doc Freq']"
   ]
  },
  {
   "cell_type": "code",
   "execution_count": 69,
   "metadata": {},
   "outputs": [
    {
     "data": {
      "text/plain": [
       "(22417, 2)"
      ]
     },
     "execution_count": 69,
     "metadata": {},
     "output_type": "execute_result"
    }
   ],
   "source": [
    "word_doc_freq =  word_doc_freq.append(word_doc_freq1)\n",
    "word_doc_freq =  word_doc_freq.append(word_doc_freq2)\n",
    "\n",
    "word_doc_freq.shape"
   ]
  },
  {
   "cell_type": "code",
   "execution_count": 70,
   "metadata": {
    "scrolled": true
   },
   "outputs": [
    {
     "data": {
      "text/plain": [
       "[(1, 9552),\n",
       " (2, 3486),\n",
       " (3, 1916),\n",
       " (4, 1259),\n",
       " (5, 896),\n",
       " (6, 634),\n",
       " (7, 532),\n",
       " (8, 415),\n",
       " (9, 354),\n",
       " (10, 294)]"
      ]
     },
     "execution_count": 70,
     "metadata": {},
     "output_type": "execute_result"
    }
   ],
   "source": [
    "from collections import Counter\n",
    "\n",
    "sorted_doc_freqs = np.sort(word_doc_freq['Doc Freq'])\n",
    "counts = Counter(sorted_doc_freqs)\n",
    "counts.most_common(10)"
   ]
  },
  {
   "cell_type": "code",
   "execution_count": 71,
   "metadata": {},
   "outputs": [],
   "source": [
    "counts = counts.items()\n",
    "x_ax = np.array([item[0] for item in counts])\n",
    "freqs = np.array([item[1] for item in counts])\n",
    "y_ax = freqs.cumsum() / freqs.cumsum()[-1]"
   ]
  },
  {
   "cell_type": "code",
   "execution_count": 74,
   "metadata": {},
   "outputs": [
    {
     "data": {
      "image/png": "[encoded data removed]",
      "text/plain": [
       "<Figure size 1440x720 with 1 Axes>"
      ]
     },
     "metadata": {},
     "output_type": "display_data"
    }
   ],
   "source": [
    "\n",
    "plt.style.use('fivethirtyeight')\n",
    "fig = plt.figure(facecolor='white', figsize=(20, 10))\n",
    "plt.plot(x_ax , y_ax, linewidth=0.8, color='r')\n",
    "\n",
    "plt.xlim(-1, 100)\n",
    "plt.xticks(np.arange(0, 100, 5.0))\n",
    "_ = plt.xlabel('Number of Documents')\n",
    "_ = plt.ylabel('CDF of Word Freq.')\n"
   ]
  },
  {
   "cell_type": "markdown",
   "metadata": {},
   "source": [
    "From the plot we ca notice that there are almost 40 to 50% of the words appear in only one document. This is almost half of the entire word count. So, the min_df must be set at 1.\n",
    "\n",
    "For the max_df, we would choose the point at which the plot starts to plateau and that will be 20."
   ]
  },
  {
   "cell_type": "markdown",
   "metadata": {},
   "source": [
    "The parameter $\\alpha$ is chosen to be a small value that simply avoids having zeros in the probability computations. This value can sometimes be chosen arbitrarily with domain expertise, but we will use K-fold cross validation. In K-fold cross-validation, we divide the data into $K$ non-overlapping parts. We train on $K-1$ of the folds and test on the remaining fold. We then iterate, so that each fold serves as the test fold exactly once. The function `cv_score` performs the K-fold cross-validation algorithm for us, but we need to pass a function that measures the performance of the algorithm on each fold. "
   ]
  },
  {
   "cell_type": "code",
   "execution_count": null,
   "metadata": {},
   "outputs": [],
   "source": []
  },
  {
   "cell_type": "code",
   "execution_count": 17,
   "metadata": {},
   "outputs": [],
   "source": [
    "from sklearn.model_selection import KFold\n",
    "def cv_score(clf, X, y, scorefunc):\n",
    "    result = 0.\n",
    "    nfold = 5\n",
    "    for train, test in KFold(nfold).split(X): # split data into train/test groups, 5 times\n",
    "        clf.fit(X[train], y[train]) # fit the classifier, passed is as clf.\n",
    "        result += scorefunc(clf, X[test], y[test]) # evaluate score function on held-out data\n",
    "    return result / nfold # average"
   ]
  },
  {
   "cell_type": "markdown",
   "metadata": {},
   "source": [
    "We use the log-likelihood as the score here in `scorefunc`. The higher the log-likelihood, the better. Indeed, what we do in `cv_score` above is to implement the cross-validation part of `GridSearchCV`.\n",
    "\n",
    "The custom scoring function `scorefunc` allows us to use different metrics depending on the decision risk we care about (precision, accuracy, profit etc.) directly on the validation set. You will often find people using `roc_auc`, precision, recall, or `F1-score` as the scoring function."
   ]
  },
  {
   "cell_type": "code",
   "execution_count": 18,
   "metadata": {},
   "outputs": [],
   "source": [
    "def log_likelihood(clf, x, y):\n",
    "    prob = clf.predict_log_proba(x)\n",
    "    rotten = y == 0\n",
    "    fresh = ~rotten\n",
    "    return prob[rotten, 0].sum() + prob[fresh, 1].sum()"
   ]
  },
  {
   "cell_type": "markdown",
   "metadata": {},
   "source": [
    "We'll cross-validate over the regularization parameter $\\alpha$."
   ]
  },
  {
   "cell_type": "markdown",
   "metadata": {},
   "source": [
    "Let's set up the train and test masks first, and then we can run the cross-validation procedure."
   ]
  },
  {
   "cell_type": "code",
   "execution_count": 19,
   "metadata": {},
   "outputs": [
    {
     "name": "stderr",
     "output_type": "stream",
     "text": [
      "C:\\Users\\lakshya_hanshvik\\Anaconda3\\lib\\site-packages\\sklearn\\model_selection\\_split.py:2179: FutureWarning: From version 0.21, test_size will always complement train_size unless both are specified.\n",
      "  FutureWarning)\n"
     ]
    }
   ],
   "source": [
    "from sklearn.model_selection import train_test_split\n",
    "itrain, itest = train_test_split(range(critics.shape[0]), train_size=0.7)\n",
    "mask = np.zeros(critics.shape[0], dtype=np.bool)\n",
    "mask[itest] = True"
   ]
  },
  {
   "cell_type": "code",
   "execution_count": 20,
   "metadata": {},
   "outputs": [
    {
     "data": {
      "text/plain": [
       "15561"
      ]
     },
     "execution_count": 20,
     "metadata": {},
     "output_type": "execute_result"
    }
   ],
   "source": [
    "critics.shape[0]"
   ]
  },
  {
   "cell_type": "code",
   "execution_count": 21,
   "metadata": {},
   "outputs": [
    {
     "data": {
      "text/plain": [
       "((15561,), array([False, False,  True, ..., False, False,  True]))"
      ]
     },
     "execution_count": 21,
     "metadata": {},
     "output_type": "execute_result"
    }
   ],
   "source": [
    "mask.shape,mask"
   ]
  },
  {
   "cell_type": "code",
   "execution_count": 22,
   "metadata": {},
   "outputs": [
    {
     "data": {
      "text/plain": [
       "4669"
      ]
     },
     "execution_count": 22,
     "metadata": {},
     "output_type": "execute_result"
    }
   ],
   "source": [
    "len(itest)"
   ]
  },
  {
   "cell_type": "code",
   "execution_count": 23,
   "metadata": {},
   "outputs": [
    {
     "data": {
      "text/plain": [
       "array([ True,  True,  True, ...,  True,  True,  True])"
      ]
     },
     "execution_count": 23,
     "metadata": {},
     "output_type": "execute_result"
    }
   ],
   "source": [
    "mask[itest]"
   ]
  },
  {
   "cell_type": "code",
   "execution_count": 24,
   "metadata": {},
   "outputs": [
    {
     "data": {
      "text/plain": [
       "array([False, False, False, ..., False, False, False])"
      ]
     },
     "execution_count": 24,
     "metadata": {},
     "output_type": "execute_result"
    }
   ],
   "source": [
    "mask[itrain]"
   ]
  },
  {
   "cell_type": "markdown",
   "metadata": {},
   "source": [
    "<div class=\"span5 alert alert-info\">\n",
    "<h3>Exercise Set IV</h3>\n",
    "\n",
    "<p><b>Exercise:</b> What does using the function `log_likelihood` as the score mean? What are we trying to optimize for?</p>\n",
    "\n",
    "<p><b>Exercise:</b> Without writing any code, what do you think would happen if you choose a value of $\\alpha$ that is too high?</p>\n",
    "\n",
    "<p><b>Exercise:</b> Using the skeleton code below, find the best values of the parameter `alpha`, and use the value of `min_df` you chose in the previous exercise set. Use the `cv_score` function above with the `log_likelihood` function for scoring.</p>\n",
    "</div>"
   ]
  },
  {
   "cell_type": "markdown",
   "metadata": {},
   "source": [
    "        \n",
    "The log likelihood is the logarithm of the likelihood function and it is used since logartihms are more convenient to work with. This is because the logarithm is a montonically increasing function and working in the logarithms domain converts multiplication into addition enabling easier arithmetic.                      \n",
    "\n",
    "The log_likelihood measures the probability of observing the data given the parameters. To maximize the log_likelihood means that we are trying to find the parameters that maximize the probability of predicting the training data. \n",
    "We are trying to optimize for the maximum likelihood function of Naive Bayes. \n",
    "\n",
    "Since  𝛼  is an additive smoothing parameter,larger  𝛼  will reduce the variance of the model (overfitting) but increase bias at the same time. As a result, the original probability calculated based on the documents and data available to us will be suppressed by the regularization parameter. This will lead to all texts having an almost equal probability of being of a particular class c."
   ]
  },
  {
   "cell_type": "code",
   "execution_count": 25,
   "metadata": {},
   "outputs": [
    {
     "data": {
      "text/plain": [
       "(-574.2210137885384, 5, 0.001)"
      ]
     },
     "execution_count": 25,
     "metadata": {},
     "output_type": "execute_result"
    }
   ],
   "source": [
    "from sklearn.naive_bayes import MultinomialNB\n",
    "\n",
    "#the grid of parameters to search over\n",
    "alphas = [.1, 1, 5, 10, 50]\n",
    "best_min_dfs = [.001, .01,0.1,1,2,3,4,5] #None # YOUR TURN: put your value of min_df here.\n",
    "\n",
    "#Find the best value for alpha and min_df, and the best classifier\n",
    "best_alpha = None\n",
    "best_min_df= None\n",
    "maxscore=-np.inf\n",
    "for alpha in alphas:  \n",
    "    for mindf in best_min_dfs:\n",
    "        \n",
    "        vectorizer = CountVectorizer(min_df=mindf)       \n",
    "        Xthis, ythis = make_xy(critics, vectorizer)\n",
    "        Xtrainthis = Xthis[mask]\n",
    "        ytrainthis = ythis[mask]\n",
    "    # your turn\n",
    "    \n",
    "        classifier = MultinomialNB(alpha=alpha)\n",
    "        score = cv_score(classifier, Xtrainthis, ytrainthis, log_likelihood)\n",
    "        if score > maxscore:\n",
    "            maxscore = score\n",
    "            best_alpha = alpha\n",
    "            best_min_df = mindf\n",
    "            \n",
    "maxscore,best_alpha,best_min_df"
   ]
  },
  {
   "cell_type": "code",
   "execution_count": 26,
   "metadata": {},
   "outputs": [
    {
     "name": "stdout",
     "output_type": "stream",
     "text": [
      "alpha: 5\n"
     ]
    }
   ],
   "source": [
    "print(\"alpha: {}\".format(best_alpha))"
   ]
  },
  {
   "cell_type": "markdown",
   "metadata": {},
   "source": [
    "<div class=\"span5 alert alert-info\">\n",
    "<h3>Exercise Set V: Working with the Best Parameters</h3>\n",
    "\n",
    "<p><b>Exercise:</b> Using the best value of  `alpha` you just found, calculate the accuracy on the training and test sets. Is this classifier better? Why (not)?</p>\n",
    "\n",
    "</div>"
   ]
  },
  {
   "cell_type": "code",
   "execution_count": 27,
   "metadata": {},
   "outputs": [
    {
     "name": "stdout",
     "output_type": "stream",
     "text": [
      "Accuracy on training data: 0.801028\n",
      "Accuracy on test data:     0.714561\n"
     ]
    }
   ],
   "source": [
    "vectorizer = CountVectorizer(min_df=best_min_df)\n",
    "X, y = make_xy(critics, vectorizer)\n",
    "xtrain=X[mask]\n",
    "ytrain=y[mask]\n",
    "xtest=X[~mask]\n",
    "ytest=y[~mask]\n",
    "\n",
    "clf = MultinomialNB(alpha=best_alpha).fit(xtrain, ytrain)\n",
    "\n",
    "#your turn. Print the accuracy on the test and training dataset\n",
    "training_accuracy = clf.score(xtrain, ytrain)\n",
    "test_accuracy = clf.score(xtest, ytest)\n",
    "\n",
    "print(\"Accuracy on training data: {:2f}\".format(training_accuracy))\n",
    "print(\"Accuracy on test data:     {:2f}\".format(test_accuracy))"
   ]
  },
  {
   "cell_type": "code",
   "execution_count": 28,
   "metadata": {},
   "outputs": [
    {
     "name": "stdout",
     "output_type": "stream",
     "text": [
      "[[2040 2206]\n",
      " [ 903 5743]]\n"
     ]
    }
   ],
   "source": [
    "from sklearn.metrics import confusion_matrix\n",
    "print(confusion_matrix(ytest, clf.predict(xtest)))"
   ]
  },
  {
   "cell_type": "markdown",
   "metadata": {},
   "source": [
    "## Interpretation"
   ]
  },
  {
   "cell_type": "markdown",
   "metadata": {},
   "source": [
    "### What are the strongly predictive features?\n",
    "\n",
    "We use a neat trick to identify strongly predictive features (i.e. words). \n",
    "\n",
    "* first, create a data set such that each row has exactly one feature. This is represented by the identity matrix.\n",
    "* use the trained classifier to make predictions on this matrix\n",
    "* sort the rows by predicted probabilities, and pick the top and bottom $K$ rows"
   ]
  },
  {
   "cell_type": "code",
   "execution_count": 29,
   "metadata": {},
   "outputs": [
    {
     "name": "stdout",
     "output_type": "stream",
     "text": [
      "Good words\t     P(fresh | word)\n",
      "        entertaining 0.87\n",
      "                best 0.84\n",
      "              moving 0.84\n",
      "             complex 0.84\n",
      "         performance 0.83\n",
      "              superb 0.83\n",
      "         intelligent 0.83\n",
      "         masterpiece 0.82\n",
      "          remarkable 0.82\n",
      "             delight 0.82\n",
      "Bad words\t     P(fresh | word)\n",
      "               fails 0.29\n",
      "             problem 0.27\n",
      "          equivalent 0.26\n",
      "                lame 0.26\n",
      "          uninspired 0.26\n",
      "      disappointment 0.25\n",
      "       disappointing 0.25\n",
      "       unfortunately 0.23\n",
      "                dull 0.23\n",
      "               bland 0.21\n"
     ]
    }
   ],
   "source": [
    "words = np.array(vectorizer.get_feature_names())\n",
    "\n",
    "x = np.eye(xtest.shape[1])\n",
    "probs = clf.predict_log_proba(x)[:, 0]\n",
    "ind = np.argsort(probs)\n",
    "\n",
    "good_words = words[ind[:10]]\n",
    "bad_words = words[ind[-10:]]\n",
    "\n",
    "good_prob = probs[ind[:10]]\n",
    "bad_prob = probs[ind[-10:]]\n",
    "\n",
    "print(\"Good words\\t     P(fresh | word)\")\n",
    "for w, p in zip(good_words, good_prob):\n",
    "    print(\"{:>20}\".format(w), \"{:.2f}\".format(1 - np.exp(p)))\n",
    "    \n",
    "print(\"Bad words\\t     P(fresh | word)\")\n",
    "for w, p in zip(bad_words, bad_prob):\n",
    "    print(\"{:>20}\".format(w), \"{:.2f}\".format(1 - np.exp(p)))"
   ]
  },
  {
   "cell_type": "code",
   "execution_count": 30,
   "metadata": {},
   "outputs": [
    {
     "data": {
      "text/plain": [
       "array(['10', '100', '20', ..., 'your', 'yourself', 'youth'], dtype='<U16')"
      ]
     },
     "execution_count": 30,
     "metadata": {},
     "output_type": "execute_result"
    }
   ],
   "source": [
    "words"
   ]
  },
  {
   "cell_type": "code",
   "execution_count": 31,
   "metadata": {},
   "outputs": [
    {
     "data": {
      "text/plain": [
       "(10892, 2120)"
      ]
     },
     "execution_count": 31,
     "metadata": {},
     "output_type": "execute_result"
    }
   ],
   "source": [
    "xtest.shape"
   ]
  },
  {
   "cell_type": "code",
   "execution_count": 32,
   "metadata": {},
   "outputs": [
    {
     "data": {
      "text/plain": [
       "array([ 576,  173, 1201, ..., 1955,  522,  187], dtype=int64)"
      ]
     },
     "execution_count": 32,
     "metadata": {},
     "output_type": "execute_result"
    }
   ],
   "source": [
    "ind"
   ]
  },
  {
   "cell_type": "code",
   "execution_count": 33,
   "metadata": {},
   "outputs": [
    {
     "data": {
      "text/plain": [
       "array([-0.69141952, -0.66507899, -1.15031458, ..., -1.08188417,\n",
       "       -0.90509739, -1.21642651])"
      ]
     },
     "execution_count": 33,
     "metadata": {},
     "output_type": "execute_result"
    }
   ],
   "source": [
    "probs"
   ]
  },
  {
   "cell_type": "markdown",
   "metadata": {},
   "source": [
    "<div class=\"span5 alert alert-info\">\n",
    "<h3>Exercise Set VI</h3>\n",
    "\n",
    "<p><b>Exercise:</b> Why does this method work? What does the probability for each row in the identity matrix represent</p>\n",
    "\n",
    "</div>"
   ]
  },
  {
   "cell_type": "markdown",
   "metadata": {},
   "source": [
    "This method works because it analysis each word as 'fresh' or 'rotten' , by filtering out the words that occur the most each in fresh reviews and rotten reviews. In other words, these are the strongly predictive words(features) and would have the high influence on the classifier.\n",
    "\n",
    "By creating an identity matrix with the size of the number of features/words, each row represents exactly one feature/word. \n",
    "If one single word can generate high probability of a review being fresh or rotten, that implies this feature can influence the classification.\n",
    "\n",
    "The probability for each row in the identity matrix represents the score of the word. A higher score means a higher probability of it being fresh, while a lower score means a lower probability of being fresh (or rotten)."
   ]
  },
  {
   "cell_type": "markdown",
   "metadata": {},
   "source": [
    "The above exercise is an example of *feature selection*. There are many other feature selection methods. A list of feature selection methods available in `sklearn` is [here](http://scikit-learn.org/stable/modules/classes.html#module-sklearn.feature_selection). The most common feature selection technique for text mining is the chi-squared $\\left( \\chi^2 \\right)$ [method](http://nlp.stanford.edu/IR-book/html/htmledition/feature-selectionchi2-feature-selection-1.html)."
   ]
  },
  {
   "cell_type": "markdown",
   "metadata": {},
   "source": [
    "### Prediction Errors\n",
    "\n",
    "We can see mis-predictions as well."
   ]
  },
  {
   "cell_type": "code",
   "execution_count": 34,
   "metadata": {},
   "outputs": [
    {
     "name": "stdout",
     "output_type": "stream",
     "text": [
      "Mis-predicted Rotten quotes\n",
      "---------------------------\n",
      "It survives today only as an unusually pure example of a typical 50s art-film strategy: the attempt to make the most modern and most popular of art forms acceptable to the intelligentsia by forcing it into an arcane, antique mold.\n",
      "\n",
      "The Disney organization is worst when it makes \"family entertainment\" and best when it sticks to pure, simple, charming fantasy.\n",
      "\n",
      "Directed with composure, but no great fervour, the film's conspicuously uninterested in American football, and much concerned with testing the limits and the resilience of the American dream.\n",
      "\n",
      "The plot of The Glimmer Man involves not only the Family Man but Our Evil Secret Government, the Russian Mafia and Rich Powerful Politicians -- the three stooges of action cinema in the '90s.\n",
      "\n",
      "Cast of newcomers is appealing, but this small-town melodrama is so old-fashioned and out-of-touch with contemporary youth that it feels as if it were made the same time that its story is set, in 1957.\n",
      "\n",
      "Mis-predicted Fresh quotes\n",
      "--------------------------\n",
      "This doesn't usually happen to me, but 15 minutes before the end of Casper I suddenly realized that if I didn't take a deep breath, I was going to start sobbing.\n",
      "\n",
      "Some of the gags don't work, but fewer than in any previous Brooks film that I've seen, and when the jokes are meant to be bad, they are riotously poor. What more can one ask of Mel Brooks?\n",
      "\n",
      "The gangland plot is flimsy (bad guy Peter Greene wears too much eyeliner), and the jokes are erratic, but it's a far better showcase for Carrey's comic-from-Uranus talent than Ace Ventura.\n",
      "\n",
      "It's a one-joke movie, a funhouse ride, the cinematic equivalent of having a rubber spider thrown in your lap. But it doesn't matter if you reject the wispy script or the plot, which has as much substance as a spider's web; you'll jump every time.\n",
      "\n",
      "Though it's a good half hour too long, this overblown 1993 spin-off of the 60s TV show otherwise adds up to a pretty good suspense thriller.\n",
      "\n"
     ]
    }
   ],
   "source": [
    "x, y = make_xy(critics, vectorizer)\n",
    "\n",
    "prob = clf.predict_proba(x)[:, 0]\n",
    "predict = clf.predict(x)\n",
    "\n",
    "bad_rotten = np.argsort(prob[y == 0])[:5]\n",
    "bad_fresh = np.argsort(prob[y == 1])[-5:]\n",
    "\n",
    "print(\"Mis-predicted Rotten quotes\")\n",
    "print('---------------------------')\n",
    "for row in bad_rotten:\n",
    "    print(critics[y == 0].quote.iloc[row])\n",
    "    print(\"\")\n",
    "\n",
    "print(\"Mis-predicted Fresh quotes\")\n",
    "print('--------------------------')\n",
    "for row in bad_fresh:\n",
    "    print(critics[y == 1].quote.iloc[row])\n",
    "    print(\"\")"
   ]
  },
  {
   "cell_type": "markdown",
   "metadata": {},
   "source": [
    "<div class=\"span5 alert alert-info\">\n",
    "<h3>Exercise Set VII: Predicting the Freshness for a New Review</h3>\n",
    "<br/>\n",
    "<div>\n",
    "<b>Exercise:</b>\n",
    "<ul>\n",
    "<li> Using your best trained classifier, predict the freshness of the following sentence: *'This movie is not remarkable, touching, or superb in any way'*\n",
    "<li> Is the result what you'd expect? Why (not)?\n",
    "</ul>\n",
    "</div>\n",
    "</div>"
   ]
  },
  {
   "cell_type": "code",
   "execution_count": 35,
   "metadata": {},
   "outputs": [],
   "source": [
    "#your turn"
   ]
  },
  {
   "cell_type": "code",
   "execution_count": 36,
   "metadata": {},
   "outputs": [
    {
     "data": {
      "text/plain": [
       "array([[0.02564833, 0.97435167]])"
      ]
     },
     "execution_count": 36,
     "metadata": {},
     "output_type": "execute_result"
    }
   ],
   "source": [
    "new_review = ['This movie is not remarkable, touching, or superb in any way']\n",
    "clf.predict_proba(vectorizer.transform(new_review))"
   ]
  },
  {
   "cell_type": "code",
   "execution_count": 37,
   "metadata": {},
   "outputs": [
    {
     "data": {
      "text/plain": [
       "array([1])"
      ]
     },
     "execution_count": 37,
     "metadata": {},
     "output_type": "execute_result"
    }
   ],
   "source": [
    "clf.predict(vectorizer.transform(new_review))"
   ]
  },
  {
   "cell_type": "markdown",
   "metadata": {},
   "source": [
    "The output imples that the probability of occurance of 0(rotten) is 0.113 and 1(fresh) is 0.886, hence the classifier the predicted the review to be fresh, which is misclassified.\n",
    "\n",
    "In this approach of using the word frequency matrix , we are not considering the sentence structure. Bag of words representation doesn’t consider the semantic relation between words. Generally the neighbour words in a sentence should be useful for prediction ."
   ]
  },
  {
   "cell_type": "code",
   "execution_count": null,
   "metadata": {},
   "outputs": [],
   "source": []
  },
  {
   "cell_type": "markdown",
   "metadata": {},
   "source": [
    "### Aside: TF-IDF Weighting for Term Importance\n",
    "\n",
    "TF-IDF stands for \n",
    "\n",
    "`Term-Frequency X Inverse Document Frequency`.\n",
    "\n",
    "In the standard `CountVectorizer` model above, we used just the term frequency in a document of words in our vocabulary. In TF-IDF, we weight this term frequency by the inverse of its popularity in all documents. For example, if the word \"movie\" showed up in all the documents, it would not have much predictive value. It could actually be considered a stopword. By weighing its counts by 1 divided by its overall frequency, we downweight it. We can then use this TF-IDF weighted features as inputs to any classifier. **TF-IDF is essentially a measure of term importance, and of how discriminative a word is in a corpus.** There are a variety of nuances involved in computing TF-IDF, mainly involving where to add the smoothing term to avoid division by 0, or log of 0 errors. The formula for TF-IDF in `scikit-learn` differs from that of most textbooks: \n",
    "\n",
    "$$\\mbox{TF-IDF}(t, d) = \\mbox{TF}(t, d)\\times \\mbox{IDF}(t) = n_{td} \\log{\\left( \\frac{\\vert D \\vert}{\\vert d : t \\in d \\vert} + 1 \\right)}$$\n",
    "\n",
    "where $n_{td}$ is the number of times term $t$ occurs in document $d$, $\\vert D \\vert$ is the number of documents, and $\\vert d : t \\in d \\vert$ is the number of documents that contain $t$"
   ]
  },
  {
   "cell_type": "code",
   "execution_count": 38,
   "metadata": {},
   "outputs": [],
   "source": [
    "# http://scikit-learn.org/dev/modules/feature_extraction.html#text-feature-extraction\n",
    "# http://scikit-learn.org/dev/modules/classes.html#text-feature-extraction-ref\n",
    "from sklearn.feature_extraction.text import TfidfVectorizer\n",
    "tfidfvectorizer = TfidfVectorizer(min_df=1, stop_words='english')\n",
    "Xtfidf=tfidfvectorizer.fit_transform(critics.quote)"
   ]
  },
  {
   "cell_type": "markdown",
   "metadata": {},
   "source": [
    "<div class=\"span5 alert alert-info\">\n",
    "<h3>Exercise Set VIII: Enrichment <b>(Optional)</b></h3>\n",
    "\n",
    "<p>\n",
    "There are several additional things we could try. Try some of these as exercises:\n",
    "<ol>\n",
    "<li> Build a Naive Bayes model where the features are n-grams instead of words. N-grams are phrases containing n words next to each other: a bigram contains 2 words, a trigram contains 3 words, and 6-gram contains 6 words. This is useful because \"not good\" and \"so good\" mean very different things. On the other hand, as n increases, the model does not scale well since the feature set becomes more sparse.\n",
    "<li> Try a model besides Naive Bayes, one that would allow for interactions between words -- for example, a Random Forest classifier.\n",
    "<li> Try adding supplemental features -- information about genre, director, cast, etc.\n",
    "<li> Use word2vec or [Latent Dirichlet Allocation](https://en.wikipedia.org/wiki/Latent_Dirichlet_allocation) to group words into topics and use those topics for prediction.\n",
    "<li> Use TF-IDF weighting instead of word counts.\n",
    "</ol>\n",
    "</p>\n",
    "\n",
    "<b>Exercise:</b> Try at least one of these ideas to improve the model (or any other ideas of your own). Implement here and report on the result. \n",
    "</div>"
   ]
  },
  {
   "cell_type": "code",
   "execution_count": 39,
   "metadata": {},
   "outputs": [],
   "source": [
    "# Your turn"
   ]
  }
 ],
 "metadata": {
  "kernelspec": {
   "display_name": "Python 3",
   "language": "python",
   "name": "python3"
  },
  "language_info": {
   "codemirror_mode": {
    "name": "ipython",
    "version": 3
   },
   "file_extension": ".py",
   "mimetype": "text/x-python",
   "name": "python",
   "nbconvert_exporter": "python",
   "pygments_lexer": "ipython3",
   "version": "3.7.1"
  }
 },
 "nbformat": 4,
 "nbformat_minor": 1
}
